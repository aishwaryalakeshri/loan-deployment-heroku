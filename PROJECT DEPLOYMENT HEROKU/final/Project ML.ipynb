{
 "cells": [
  {
   "cell_type": "markdown",
   "metadata": {},
   "source": [
    "# Project Title : Loan Eligibility Prediction Using Machine Learning"
   ]
  },
  {
   "cell_type": "markdown",
   "metadata": {},
   "source": [
    "#### Problem Statement : A Company wants to automate the loan eligibility process based on customer detail provided while filling online application form. Our goal is to predict if applicant is eligible for loan or not. Hence the more accurate below program is in predicting the eligible customers , the more beneficial it would be for the Company."
   ]
  },
  {
   "cell_type": "raw",
   "metadata": {},
   "source": [
    "The Form includes following details of the Customer :\n",
    "\n",
    "1.Loan ID\n",
    "\n",
    "2.Gender\n",
    "\n",
    "3.Marital Status\n",
    "\n",
    "4.Education\n",
    "\n",
    "5.Number of Dependents\n",
    "\n",
    "6.Self Employed\n",
    "\n",
    "7.Applicant Income\n",
    "\n",
    "8.Coapplicant Income\n",
    "\n",
    "9.Loan Amount\n",
    "\n",
    "10.Loan Amount Term\n",
    "\n",
    "11.Credit History\n",
    "\n",
    "12.Property\n",
    "\n",
    "13.Loan Status\n"
   ]
  },
  {
   "cell_type": "markdown",
   "metadata": {},
   "source": [
    "# Program :"
   ]
  },
  {
   "cell_type": "markdown",
   "metadata": {
    "id": "6AxdIcK633Ft"
   },
   "source": [
    "# **Importing the Dataset**"
   ]
  },
  {
   "cell_type": "code",
   "execution_count": 1,
   "metadata": {
    "executionInfo": {
     "elapsed": 476,
     "status": "ok",
     "timestamp": 1630421196292,
     "user": {
      "displayName": "Aishwarya L",
      "photoUrl": "",
      "userId": "17266723946839147574"
     },
     "user_tz": -330
    },
    "id": "uewJ5QRB8nKQ"
   },
   "outputs": [],
   "source": [
    "import pandas as pd\n",
    "import seaborn as sns\n",
    "import matplotlib.pyplot as plt\n",
    "import numpy as np\n",
    "\n",
    "%matplotlib inline"
   ]
  },
  {
   "cell_type": "code",
   "execution_count": 2,
   "metadata": {},
   "outputs": [],
   "source": [
    "import warnings\n",
    "warnings.filterwarnings('ignore')"
   ]
  },
  {
   "cell_type": "markdown",
   "metadata": {
    "id": "T_zasxDk4APX"
   },
   "source": [
    "# **Reading the Dataset**"
   ]
  },
  {
   "cell_type": "code",
   "execution_count": 3,
   "metadata": {
    "colab": {
     "base_uri": "https://localhost:8080/",
     "height": 445
    },
    "executionInfo": {
     "elapsed": 1078,
     "status": "ok",
     "timestamp": 1630421203370,
     "user": {
      "displayName": "Aishwarya L",
      "photoUrl": "",
      "userId": "17266723946839147574"
     },
     "user_tz": -330
    },
    "id": "4dE9ymRqBsRQ",
    "outputId": "f5f43ebe-1315-4ed8-9d1b-dd317aa43fbc"
   },
   "outputs": [
    {
     "data": {
      "text/html": [
       "<div>\n",
       "<style scoped>\n",
       "    .dataframe tbody tr th:only-of-type {\n",
       "        vertical-align: middle;\n",
       "    }\n",
       "\n",
       "    .dataframe tbody tr th {\n",
       "        vertical-align: top;\n",
       "    }\n",
       "\n",
       "    .dataframe thead th {\n",
       "        text-align: right;\n",
       "    }\n",
       "</style>\n",
       "<table border=\"1\" class=\"dataframe\">\n",
       "  <thead>\n",
       "    <tr style=\"text-align: right;\">\n",
       "      <th></th>\n",
       "      <th>Loan_ID</th>\n",
       "      <th>Gender</th>\n",
       "      <th>Married</th>\n",
       "      <th>Dependents</th>\n",
       "      <th>Education</th>\n",
       "      <th>Self_Employed</th>\n",
       "      <th>ApplicantIncome</th>\n",
       "      <th>CoapplicantIncome</th>\n",
       "      <th>LoanAmount</th>\n",
       "      <th>Loan_Amount_Term</th>\n",
       "      <th>Credit_History</th>\n",
       "      <th>Property_Area</th>\n",
       "      <th>Loan_Status</th>\n",
       "    </tr>\n",
       "  </thead>\n",
       "  <tbody>\n",
       "    <tr>\n",
       "      <th>0</th>\n",
       "      <td>LP001002</td>\n",
       "      <td>Male</td>\n",
       "      <td>No</td>\n",
       "      <td>0</td>\n",
       "      <td>Graduate</td>\n",
       "      <td>No</td>\n",
       "      <td>5849</td>\n",
       "      <td>0.0</td>\n",
       "      <td>NaN</td>\n",
       "      <td>360.0</td>\n",
       "      <td>1.0</td>\n",
       "      <td>Urban</td>\n",
       "      <td>Y</td>\n",
       "    </tr>\n",
       "    <tr>\n",
       "      <th>1</th>\n",
       "      <td>LP001003</td>\n",
       "      <td>Male</td>\n",
       "      <td>Yes</td>\n",
       "      <td>1</td>\n",
       "      <td>Graduate</td>\n",
       "      <td>No</td>\n",
       "      <td>4583</td>\n",
       "      <td>1508.0</td>\n",
       "      <td>128.0</td>\n",
       "      <td>360.0</td>\n",
       "      <td>1.0</td>\n",
       "      <td>Rural</td>\n",
       "      <td>N</td>\n",
       "    </tr>\n",
       "    <tr>\n",
       "      <th>2</th>\n",
       "      <td>LP001005</td>\n",
       "      <td>Male</td>\n",
       "      <td>Yes</td>\n",
       "      <td>0</td>\n",
       "      <td>Graduate</td>\n",
       "      <td>Yes</td>\n",
       "      <td>3000</td>\n",
       "      <td>0.0</td>\n",
       "      <td>66.0</td>\n",
       "      <td>360.0</td>\n",
       "      <td>1.0</td>\n",
       "      <td>Urban</td>\n",
       "      <td>Y</td>\n",
       "    </tr>\n",
       "    <tr>\n",
       "      <th>3</th>\n",
       "      <td>LP001006</td>\n",
       "      <td>Male</td>\n",
       "      <td>Yes</td>\n",
       "      <td>0</td>\n",
       "      <td>Not Graduate</td>\n",
       "      <td>No</td>\n",
       "      <td>2583</td>\n",
       "      <td>2358.0</td>\n",
       "      <td>120.0</td>\n",
       "      <td>360.0</td>\n",
       "      <td>1.0</td>\n",
       "      <td>Urban</td>\n",
       "      <td>Y</td>\n",
       "    </tr>\n",
       "    <tr>\n",
       "      <th>4</th>\n",
       "      <td>LP001008</td>\n",
       "      <td>Male</td>\n",
       "      <td>No</td>\n",
       "      <td>0</td>\n",
       "      <td>Graduate</td>\n",
       "      <td>No</td>\n",
       "      <td>6000</td>\n",
       "      <td>0.0</td>\n",
       "      <td>141.0</td>\n",
       "      <td>360.0</td>\n",
       "      <td>1.0</td>\n",
       "      <td>Urban</td>\n",
       "      <td>Y</td>\n",
       "    </tr>\n",
       "    <tr>\n",
       "      <th>...</th>\n",
       "      <td>...</td>\n",
       "      <td>...</td>\n",
       "      <td>...</td>\n",
       "      <td>...</td>\n",
       "      <td>...</td>\n",
       "      <td>...</td>\n",
       "      <td>...</td>\n",
       "      <td>...</td>\n",
       "      <td>...</td>\n",
       "      <td>...</td>\n",
       "      <td>...</td>\n",
       "      <td>...</td>\n",
       "      <td>...</td>\n",
       "    </tr>\n",
       "    <tr>\n",
       "      <th>609</th>\n",
       "      <td>LP002978</td>\n",
       "      <td>Female</td>\n",
       "      <td>No</td>\n",
       "      <td>0</td>\n",
       "      <td>Graduate</td>\n",
       "      <td>No</td>\n",
       "      <td>2900</td>\n",
       "      <td>0.0</td>\n",
       "      <td>71.0</td>\n",
       "      <td>360.0</td>\n",
       "      <td>1.0</td>\n",
       "      <td>Rural</td>\n",
       "      <td>Y</td>\n",
       "    </tr>\n",
       "    <tr>\n",
       "      <th>610</th>\n",
       "      <td>LP002979</td>\n",
       "      <td>Male</td>\n",
       "      <td>Yes</td>\n",
       "      <td>3+</td>\n",
       "      <td>Graduate</td>\n",
       "      <td>No</td>\n",
       "      <td>4106</td>\n",
       "      <td>0.0</td>\n",
       "      <td>40.0</td>\n",
       "      <td>180.0</td>\n",
       "      <td>1.0</td>\n",
       "      <td>Rural</td>\n",
       "      <td>Y</td>\n",
       "    </tr>\n",
       "    <tr>\n",
       "      <th>611</th>\n",
       "      <td>LP002983</td>\n",
       "      <td>Male</td>\n",
       "      <td>Yes</td>\n",
       "      <td>1</td>\n",
       "      <td>Graduate</td>\n",
       "      <td>No</td>\n",
       "      <td>8072</td>\n",
       "      <td>240.0</td>\n",
       "      <td>253.0</td>\n",
       "      <td>360.0</td>\n",
       "      <td>1.0</td>\n",
       "      <td>Urban</td>\n",
       "      <td>Y</td>\n",
       "    </tr>\n",
       "    <tr>\n",
       "      <th>612</th>\n",
       "      <td>LP002984</td>\n",
       "      <td>Male</td>\n",
       "      <td>Yes</td>\n",
       "      <td>2</td>\n",
       "      <td>Graduate</td>\n",
       "      <td>No</td>\n",
       "      <td>7583</td>\n",
       "      <td>0.0</td>\n",
       "      <td>187.0</td>\n",
       "      <td>360.0</td>\n",
       "      <td>1.0</td>\n",
       "      <td>Urban</td>\n",
       "      <td>Y</td>\n",
       "    </tr>\n",
       "    <tr>\n",
       "      <th>613</th>\n",
       "      <td>LP002990</td>\n",
       "      <td>Female</td>\n",
       "      <td>No</td>\n",
       "      <td>0</td>\n",
       "      <td>Graduate</td>\n",
       "      <td>Yes</td>\n",
       "      <td>4583</td>\n",
       "      <td>0.0</td>\n",
       "      <td>133.0</td>\n",
       "      <td>360.0</td>\n",
       "      <td>0.0</td>\n",
       "      <td>Semiurban</td>\n",
       "      <td>N</td>\n",
       "    </tr>\n",
       "  </tbody>\n",
       "</table>\n",
       "<p>614 rows × 13 columns</p>\n",
       "</div>"
      ],
      "text/plain": [
       "      Loan_ID  Gender Married Dependents     Education Self_Employed  \\\n",
       "0    LP001002    Male      No          0      Graduate            No   \n",
       "1    LP001003    Male     Yes          1      Graduate            No   \n",
       "2    LP001005    Male     Yes          0      Graduate           Yes   \n",
       "3    LP001006    Male     Yes          0  Not Graduate            No   \n",
       "4    LP001008    Male      No          0      Graduate            No   \n",
       "..        ...     ...     ...        ...           ...           ...   \n",
       "609  LP002978  Female      No          0      Graduate            No   \n",
       "610  LP002979    Male     Yes         3+      Graduate            No   \n",
       "611  LP002983    Male     Yes          1      Graduate            No   \n",
       "612  LP002984    Male     Yes          2      Graduate            No   \n",
       "613  LP002990  Female      No          0      Graduate           Yes   \n",
       "\n",
       "     ApplicantIncome  CoapplicantIncome  LoanAmount  Loan_Amount_Term  \\\n",
       "0               5849                0.0         NaN             360.0   \n",
       "1               4583             1508.0       128.0             360.0   \n",
       "2               3000                0.0        66.0             360.0   \n",
       "3               2583             2358.0       120.0             360.0   \n",
       "4               6000                0.0       141.0             360.0   \n",
       "..               ...                ...         ...               ...   \n",
       "609             2900                0.0        71.0             360.0   \n",
       "610             4106                0.0        40.0             180.0   \n",
       "611             8072              240.0       253.0             360.0   \n",
       "612             7583                0.0       187.0             360.0   \n",
       "613             4583                0.0       133.0             360.0   \n",
       "\n",
       "     Credit_History Property_Area Loan_Status  \n",
       "0               1.0         Urban           Y  \n",
       "1               1.0         Rural           N  \n",
       "2               1.0         Urban           Y  \n",
       "3               1.0         Urban           Y  \n",
       "4               1.0         Urban           Y  \n",
       "..              ...           ...         ...  \n",
       "609             1.0         Rural           Y  \n",
       "610             1.0         Rural           Y  \n",
       "611             1.0         Urban           Y  \n",
       "612             1.0         Urban           Y  \n",
       "613             0.0     Semiurban           N  \n",
       "\n",
       "[614 rows x 13 columns]"
      ]
     },
     "execution_count": 3,
     "metadata": {},
     "output_type": "execute_result"
    }
   ],
   "source": [
    "l = pd.read_csv(\"train.csv\")\n",
    "l"
   ]
  },
  {
   "cell_type": "code",
   "execution_count": 4,
   "metadata": {
    "executionInfo": {
     "elapsed": 129,
     "status": "ok",
     "timestamp": 1630421203373,
     "user": {
      "displayName": "Aishwarya L",
      "photoUrl": "",
      "userId": "17266723946839147574"
     },
     "user_tz": -330
    },
    "id": "KrhVXphwDDaz"
   },
   "outputs": [],
   "source": [
    "#drop unwanted columns"
   ]
  },
  {
   "cell_type": "code",
   "execution_count": 5,
   "metadata": {
    "colab": {
     "base_uri": "https://localhost:8080/",
     "height": 216
    },
    "executionInfo": {
     "elapsed": 132,
     "status": "ok",
     "timestamp": 1630421203378,
     "user": {
      "displayName": "Aishwarya L",
      "photoUrl": "",
      "userId": "17266723946839147574"
     },
     "user_tz": -330
    },
    "id": "LGQ4HfUbBsT4",
    "outputId": "76ba753d-91b6-4246-bc34-847e7aeab9e4"
   },
   "outputs": [
    {
     "data": {
      "text/html": [
       "<div>\n",
       "<style scoped>\n",
       "    .dataframe tbody tr th:only-of-type {\n",
       "        vertical-align: middle;\n",
       "    }\n",
       "\n",
       "    .dataframe tbody tr th {\n",
       "        vertical-align: top;\n",
       "    }\n",
       "\n",
       "    .dataframe thead th {\n",
       "        text-align: right;\n",
       "    }\n",
       "</style>\n",
       "<table border=\"1\" class=\"dataframe\">\n",
       "  <thead>\n",
       "    <tr style=\"text-align: right;\">\n",
       "      <th></th>\n",
       "      <th>Gender</th>\n",
       "      <th>Married</th>\n",
       "      <th>Dependents</th>\n",
       "      <th>Education</th>\n",
       "      <th>Self_Employed</th>\n",
       "      <th>ApplicantIncome</th>\n",
       "      <th>CoapplicantIncome</th>\n",
       "      <th>LoanAmount</th>\n",
       "      <th>Loan_Amount_Term</th>\n",
       "      <th>Credit_History</th>\n",
       "      <th>Property_Area</th>\n",
       "      <th>Loan_Status</th>\n",
       "    </tr>\n",
       "  </thead>\n",
       "  <tbody>\n",
       "    <tr>\n",
       "      <th>0</th>\n",
       "      <td>Male</td>\n",
       "      <td>No</td>\n",
       "      <td>0</td>\n",
       "      <td>Graduate</td>\n",
       "      <td>No</td>\n",
       "      <td>5849</td>\n",
       "      <td>0.0</td>\n",
       "      <td>NaN</td>\n",
       "      <td>360.0</td>\n",
       "      <td>1.0</td>\n",
       "      <td>Urban</td>\n",
       "      <td>Y</td>\n",
       "    </tr>\n",
       "    <tr>\n",
       "      <th>1</th>\n",
       "      <td>Male</td>\n",
       "      <td>Yes</td>\n",
       "      <td>1</td>\n",
       "      <td>Graduate</td>\n",
       "      <td>No</td>\n",
       "      <td>4583</td>\n",
       "      <td>1508.0</td>\n",
       "      <td>128.0</td>\n",
       "      <td>360.0</td>\n",
       "      <td>1.0</td>\n",
       "      <td>Rural</td>\n",
       "      <td>N</td>\n",
       "    </tr>\n",
       "    <tr>\n",
       "      <th>2</th>\n",
       "      <td>Male</td>\n",
       "      <td>Yes</td>\n",
       "      <td>0</td>\n",
       "      <td>Graduate</td>\n",
       "      <td>Yes</td>\n",
       "      <td>3000</td>\n",
       "      <td>0.0</td>\n",
       "      <td>66.0</td>\n",
       "      <td>360.0</td>\n",
       "      <td>1.0</td>\n",
       "      <td>Urban</td>\n",
       "      <td>Y</td>\n",
       "    </tr>\n",
       "    <tr>\n",
       "      <th>3</th>\n",
       "      <td>Male</td>\n",
       "      <td>Yes</td>\n",
       "      <td>0</td>\n",
       "      <td>Not Graduate</td>\n",
       "      <td>No</td>\n",
       "      <td>2583</td>\n",
       "      <td>2358.0</td>\n",
       "      <td>120.0</td>\n",
       "      <td>360.0</td>\n",
       "      <td>1.0</td>\n",
       "      <td>Urban</td>\n",
       "      <td>Y</td>\n",
       "    </tr>\n",
       "    <tr>\n",
       "      <th>4</th>\n",
       "      <td>Male</td>\n",
       "      <td>No</td>\n",
       "      <td>0</td>\n",
       "      <td>Graduate</td>\n",
       "      <td>No</td>\n",
       "      <td>6000</td>\n",
       "      <td>0.0</td>\n",
       "      <td>141.0</td>\n",
       "      <td>360.0</td>\n",
       "      <td>1.0</td>\n",
       "      <td>Urban</td>\n",
       "      <td>Y</td>\n",
       "    </tr>\n",
       "  </tbody>\n",
       "</table>\n",
       "</div>"
      ],
      "text/plain": [
       "  Gender Married Dependents     Education Self_Employed  ApplicantIncome  \\\n",
       "0   Male      No          0      Graduate            No             5849   \n",
       "1   Male     Yes          1      Graduate            No             4583   \n",
       "2   Male     Yes          0      Graduate           Yes             3000   \n",
       "3   Male     Yes          0  Not Graduate            No             2583   \n",
       "4   Male      No          0      Graduate            No             6000   \n",
       "\n",
       "   CoapplicantIncome  LoanAmount  Loan_Amount_Term  Credit_History  \\\n",
       "0                0.0         NaN             360.0             1.0   \n",
       "1             1508.0       128.0             360.0             1.0   \n",
       "2                0.0        66.0             360.0             1.0   \n",
       "3             2358.0       120.0             360.0             1.0   \n",
       "4                0.0       141.0             360.0             1.0   \n",
       "\n",
       "  Property_Area Loan_Status  \n",
       "0         Urban           Y  \n",
       "1         Rural           N  \n",
       "2         Urban           Y  \n",
       "3         Urban           Y  \n",
       "4         Urban           Y  "
      ]
     },
     "execution_count": 5,
     "metadata": {},
     "output_type": "execute_result"
    }
   ],
   "source": [
    "l.drop(\"Loan_ID\", inplace=True , axis=1)\n",
    "l.head()"
   ]
  },
  {
   "cell_type": "markdown",
   "metadata": {
    "id": "wkql4aKmNv-r"
   },
   "source": [
    "# **EDA**"
   ]
  },
  {
   "cell_type": "code",
   "execution_count": 6,
   "metadata": {
    "executionInfo": {
     "elapsed": 129,
     "status": "ok",
     "timestamp": 1630421203379,
     "user": {
      "displayName": "Aishwarya L",
      "photoUrl": "",
      "userId": "17266723946839147574"
     },
     "user_tz": -330
    },
    "id": "2VHU4zGeNM54"
   },
   "outputs": [],
   "source": [
    "#To Visualize Loan Status proportion"
   ]
  },
  {
   "cell_type": "code",
   "execution_count": 7,
   "metadata": {
    "colab": {
     "base_uri": "https://localhost:8080/",
     "height": 405
    },
    "executionInfo": {
     "elapsed": 131,
     "status": "ok",
     "timestamp": 1630421203383,
     "user": {
      "displayName": "Aishwarya L",
      "photoUrl": "",
      "userId": "17266723946839147574"
     },
     "user_tz": -330
    },
    "id": "qgpUQiVxNM_E",
    "outputId": "0daafa28-5ebb-4c89-d393-a3f72363b191"
   },
   "outputs": [
    {
     "data": {
      "text/plain": [
       "<AxesSubplot:xlabel='Loan_Status', ylabel='count'>"
      ]
     },
     "execution_count": 7,
     "metadata": {},
     "output_type": "execute_result"
    },
    {
     "data": {
      "image/png": "[encoded data removed]",
      "text/plain": [
       "<Figure size 432x432 with 1 Axes>"
      ]
     },
     "metadata": {
      "needs_background": "light"
     },
     "output_type": "display_data"
    }
   ],
   "source": [
    "plt.figure(figsize=(6,6))\n",
    "sns.countplot(data=l,x=\"Loan_Status\")"
   ]
  },
  {
   "cell_type": "code",
   "execution_count": 8,
   "metadata": {
    "executionInfo": {
     "elapsed": 89,
     "status": "ok",
     "timestamp": 1630421203384,
     "user": {
      "displayName": "Aishwarya L",
      "photoUrl": "",
      "userId": "17266723946839147574"
     },
     "user_tz": -330
    },
    "id": "yu_lUvqXNNBw"
   },
   "outputs": [],
   "source": [
    "#Now we will visualize each Independent Variable Seperately"
   ]
  },
  {
   "cell_type": "markdown",
   "metadata": {
    "id": "4Y7nULLvQlBz"
   },
   "source": [
    "**Independent Variable (Categorical)**"
   ]
  },
  {
   "cell_type": "code",
   "execution_count": 9,
   "metadata": {
    "executionInfo": {
     "elapsed": 90,
     "status": "ok",
     "timestamp": 1630421203386,
     "user": {
      "displayName": "Aishwarya L",
      "photoUrl": "",
      "userId": "17266723946839147574"
     },
     "user_tz": -330
    },
    "id": "TZ7xYlKaN2q8"
   },
   "outputs": [],
   "source": [
    "#1.Gender"
   ]
  },
  {
   "cell_type": "code",
   "execution_count": 10,
   "metadata": {
    "colab": {
     "base_uri": "https://localhost:8080/",
     "height": 403
    },
    "executionInfo": {
     "elapsed": 89,
     "status": "ok",
     "timestamp": 1630421203387,
     "user": {
      "displayName": "Aishwarya L",
      "photoUrl": "",
      "userId": "17266723946839147574"
     },
     "user_tz": -330
    },
    "id": "heQ6KWaGN2tP",
    "outputId": "b8bfda9d-186b-4fb1-f4cf-b83f34a51492"
   },
   "outputs": [
    {
     "data": {
      "text/plain": [
       "<AxesSubplot:xlabel='Gender', ylabel='count'>"
      ]
     },
     "execution_count": 10,
     "metadata": {},
     "output_type": "execute_result"
    },
    {
     "data": {
      "image/png": "[encoded data removed]",
      "text/plain": [
       "<Figure size 432x432 with 1 Axes>"
      ]
     },
     "metadata": {
      "needs_background": "light"
     },
     "output_type": "display_data"
    }
   ],
   "source": [
    "plt.figure(figsize=(6,6))\n",
    "sns.countplot(data=l,x=\"Gender\")"
   ]
  },
  {
   "cell_type": "code",
   "execution_count": 11,
   "metadata": {
    "executionInfo": {
     "elapsed": 79,
     "status": "ok",
     "timestamp": 1630421203388,
     "user": {
      "displayName": "Aishwarya L",
      "photoUrl": "",
      "userId": "17266723946839147574"
     },
     "user_tz": -330
    },
    "id": "yjmGO59sOUXZ"
   },
   "outputs": [],
   "source": [
    "#From above plot it can be seen that for Loan Application , Male candidates are more as compared to Female candidates."
   ]
  },
  {
   "cell_type": "code",
   "execution_count": 12,
   "metadata": {
    "executionInfo": {
     "elapsed": 79,
     "status": "ok",
     "timestamp": 1630421203389,
     "user": {
      "displayName": "Aishwarya L",
      "photoUrl": "",
      "userId": "17266723946839147574"
     },
     "user_tz": -330
    },
    "id": "-tLLc-djN2x1"
   },
   "outputs": [],
   "source": [
    "#2.Married"
   ]
  },
  {
   "cell_type": "code",
   "execution_count": 13,
   "metadata": {
    "colab": {
     "base_uri": "https://localhost:8080/",
     "height": 403
    },
    "executionInfo": {
     "elapsed": 80,
     "status": "ok",
     "timestamp": 1630421203390,
     "user": {
      "displayName": "Aishwarya L",
      "photoUrl": "",
      "userId": "17266723946839147574"
     },
     "user_tz": -330
    },
    "id": "PXv_q7pNN2z2",
    "outputId": "a6f61038-b323-4d3c-94f2-b02e1624095b"
   },
   "outputs": [
    {
     "data": {
      "text/plain": [
       "<AxesSubplot:xlabel='Married', ylabel='count'>"
      ]
     },
     "execution_count": 13,
     "metadata": {},
     "output_type": "execute_result"
    },
    {
     "data": {
      "image/png": "[encoded data removed]",
      "text/plain": [
       "<Figure size 432x432 with 1 Axes>"
      ]
     },
     "metadata": {
      "needs_background": "light"
     },
     "output_type": "display_data"
    }
   ],
   "source": [
    "plt.figure(figsize=(6,6))\n",
    "sns.countplot(data=l,x=\"Married\")"
   ]
  },
  {
   "cell_type": "markdown",
   "metadata": {
    "id": "kOLmMLdW4UbZ"
   },
   "source": [
    "From above plot it can be seen that for Loan Application , Married candidates are more as compared to Unmarried candidates."
   ]
  },
  {
   "cell_type": "code",
   "execution_count": 14,
   "metadata": {
    "executionInfo": {
     "elapsed": 69,
     "status": "ok",
     "timestamp": 1630421203390,
     "user": {
      "displayName": "Aishwarya L",
      "photoUrl": "",
      "userId": "17266723946839147574"
     },
     "user_tz": -330
    },
    "id": "OqLmke5RN26R"
   },
   "outputs": [],
   "source": [
    "#3.Self Employed"
   ]
  },
  {
   "cell_type": "code",
   "execution_count": 15,
   "metadata": {
    "colab": {
     "base_uri": "https://localhost:8080/",
     "height": 405
    },
    "executionInfo": {
     "elapsed": 821,
     "status": "ok",
     "timestamp": 1630421204142,
     "user": {
      "displayName": "Aishwarya L",
      "photoUrl": "",
      "userId": "17266723946839147574"
     },
     "user_tz": -330
    },
    "id": "jEtlC57ON2-i",
    "outputId": "9c0df80e-af01-42f9-e509-a7bc9bb163f0"
   },
   "outputs": [
    {
     "data": {
      "text/plain": [
       "<AxesSubplot:xlabel='Self_Employed', ylabel='count'>"
      ]
     },
     "execution_count": 15,
     "metadata": {},
     "output_type": "execute_result"
    },
    {
     "data": {
      "image/png": "[encoded data removed]",
      "text/plain": [
       "<Figure size 432x432 with 1 Axes>"
      ]
     },
     "metadata": {
      "needs_background": "light"
     },
     "output_type": "display_data"
    }
   ],
   "source": [
    "plt.figure(figsize=(6,6))\n",
    "sns.countplot(data=l,x=\"Self_Employed\")"
   ]
  },
  {
   "cell_type": "markdown",
   "metadata": {
    "id": "oM7hIKN04cH4"
   },
   "source": [
    "From above plot it can be seen that for Loan Application , Self Employed candidates are less."
   ]
  },
  {
   "cell_type": "code",
   "execution_count": 16,
   "metadata": {
    "executionInfo": {
     "elapsed": 59,
     "status": "ok",
     "timestamp": 1630421204144,
     "user": {
      "displayName": "Aishwarya L",
      "photoUrl": "",
      "userId": "17266723946839147574"
     },
     "user_tz": -330
    },
    "id": "U-wSU0foPkP7"
   },
   "outputs": [],
   "source": [
    "#4.Credit_History"
   ]
  },
  {
   "cell_type": "code",
   "execution_count": 17,
   "metadata": {
    "colab": {
     "base_uri": "https://localhost:8080/",
     "height": 405
    },
    "executionInfo": {
     "elapsed": 63,
     "status": "ok",
     "timestamp": 1630421204148,
     "user": {
      "displayName": "Aishwarya L",
      "photoUrl": "",
      "userId": "17266723946839147574"
     },
     "user_tz": -330
    },
    "id": "1tVgfIcUPkVI",
    "outputId": "6328d854-f3e4-4782-f47c-997fadbf5f64"
   },
   "outputs": [
    {
     "data": {
      "text/plain": [
       "<AxesSubplot:xlabel='Credit_History', ylabel='count'>"
      ]
     },
     "execution_count": 17,
     "metadata": {},
     "output_type": "execute_result"
    },
    {
     "data": {
      "image/png": "[encoded data removed]",
      "text/plain": [
       "<Figure size 432x432 with 1 Axes>"
      ]
     },
     "metadata": {
      "needs_background": "light"
     },
     "output_type": "display_data"
    }
   ],
   "source": [
    "plt.figure(figsize=(6,6))\n",
    "sns.countplot(data=l,x=\"Credit_History\")"
   ]
  },
  {
   "cell_type": "markdown",
   "metadata": {
    "id": "WMawbkpl4iy7"
   },
   "source": [
    "From above plot it can be seen that most of applicants have repaid their debts"
   ]
  },
  {
   "cell_type": "markdown",
   "metadata": {
    "id": "DoPzH_N9Q2rP"
   },
   "source": [
    "**Independent Variable (Ordinal)**"
   ]
  },
  {
   "cell_type": "code",
   "execution_count": 18,
   "metadata": {
    "executionInfo": {
     "elapsed": 55,
     "status": "ok",
     "timestamp": 1630421204150,
     "user": {
      "displayName": "Aishwarya L",
      "photoUrl": "",
      "userId": "17266723946839147574"
     },
     "user_tz": -330
    },
    "id": "_J5aQcwbPkcU"
   },
   "outputs": [],
   "source": [
    "#1.Dependents"
   ]
  },
  {
   "cell_type": "code",
   "execution_count": 19,
   "metadata": {
    "colab": {
     "base_uri": "https://localhost:8080/",
     "height": 403
    },
    "executionInfo": {
     "elapsed": 57,
     "status": "ok",
     "timestamp": 1630421204152,
     "user": {
      "displayName": "Aishwarya L",
      "photoUrl": "",
      "userId": "17266723946839147574"
     },
     "user_tz": -330
    },
    "id": "EoFnCBTkQ8OW",
    "outputId": "bc5d52fe-4cef-4ae0-fa2b-28a7e872fc6a"
   },
   "outputs": [
    {
     "data": {
      "text/plain": [
       "<AxesSubplot:xlabel='Dependents', ylabel='count'>"
      ]
     },
     "execution_count": 19,
     "metadata": {},
     "output_type": "execute_result"
    },
    {
     "data": {
      "image/png": "[encoded data removed]",
      "text/plain": [
       "<Figure size 432x432 with 1 Axes>"
      ]
     },
     "metadata": {
      "needs_background": "light"
     },
     "output_type": "display_data"
    }
   ],
   "source": [
    "plt.figure(figsize=(6,6))\n",
    "sns.countplot(data=l,x=\"Dependents\")"
   ]
  },
  {
   "cell_type": "markdown",
   "metadata": {
    "id": "ZfU2CsZf4p9H"
   },
   "source": [
    "From above plot it is clear that independent candidates are more for Loan Application"
   ]
  },
  {
   "cell_type": "code",
   "execution_count": 20,
   "metadata": {
    "executionInfo": {
     "elapsed": 50,
     "status": "ok",
     "timestamp": 1630421204153,
     "user": {
      "displayName": "Aishwarya L",
      "photoUrl": "",
      "userId": "17266723946839147574"
     },
     "user_tz": -330
    },
    "id": "x5_5WWDMQ8UM"
   },
   "outputs": [],
   "source": [
    "#2.Education"
   ]
  },
  {
   "cell_type": "code",
   "execution_count": 21,
   "metadata": {
    "colab": {
     "base_uri": "https://localhost:8080/",
     "height": 405
    },
    "executionInfo": {
     "elapsed": 51,
     "status": "ok",
     "timestamp": 1630421204155,
     "user": {
      "displayName": "Aishwarya L",
      "photoUrl": "",
      "userId": "17266723946839147574"
     },
     "user_tz": -330
    },
    "id": "5bCsq_KiQ8W3",
    "outputId": "05135789-563f-45d0-9eca-076a403d6809"
   },
   "outputs": [
    {
     "data": {
      "text/plain": [
       "<AxesSubplot:xlabel='Education', ylabel='count'>"
      ]
     },
     "execution_count": 21,
     "metadata": {},
     "output_type": "execute_result"
    },
    {
     "data": {
      "image/png": "[encoded data removed]",
      "text/plain": [
       "<Figure size 432x432 with 1 Axes>"
      ]
     },
     "metadata": {
      "needs_background": "light"
     },
     "output_type": "display_data"
    }
   ],
   "source": [
    "plt.figure(figsize=(6,6))\n",
    "sns.countplot(data=l,x=\"Education\")"
   ]
  },
  {
   "cell_type": "markdown",
   "metadata": {
    "id": "Ck25_bFb4y1j"
   },
   "source": [
    "From above plot it is clear that Graduate candidates are more for Loan Application"
   ]
  },
  {
   "cell_type": "code",
   "execution_count": 22,
   "metadata": {
    "executionInfo": {
     "elapsed": 45,
     "status": "ok",
     "timestamp": 1630421204156,
     "user": {
      "displayName": "Aishwarya L",
      "photoUrl": "",
      "userId": "17266723946839147574"
     },
     "user_tz": -330
    },
    "id": "iyn7EQ2vQ8dS"
   },
   "outputs": [],
   "source": [
    "#3.Property Area"
   ]
  },
  {
   "cell_type": "code",
   "execution_count": 23,
   "metadata": {
    "colab": {
     "base_uri": "https://localhost:8080/",
     "height": 405
    },
    "executionInfo": {
     "elapsed": 888,
     "status": "ok",
     "timestamp": 1630421204999,
     "user": {
      "displayName": "Aishwarya L",
      "photoUrl": "",
      "userId": "17266723946839147574"
     },
     "user_tz": -330
    },
    "id": "nxTFoZQIS95n",
    "outputId": "02d843ff-6f93-47c8-bb5a-3516edae9705"
   },
   "outputs": [
    {
     "data": {
      "text/plain": [
       "<AxesSubplot:xlabel='Property_Area', ylabel='count'>"
      ]
     },
     "execution_count": 23,
     "metadata": {},
     "output_type": "execute_result"
    },
    {
     "data": {
      "image/png": "[encoded data removed]",
      "text/plain": [
       "<Figure size 432x432 with 1 Axes>"
      ]
     },
     "metadata": {
      "needs_background": "light"
     },
     "output_type": "display_data"
    }
   ],
   "source": [
    "plt.figure(figsize=(6,6))\n",
    "sns.countplot(data=l,x=\"Property_Area\")"
   ]
  },
  {
   "cell_type": "markdown",
   "metadata": {
    "id": "ZOCn721dUDzo"
   },
   "source": [
    "**Independent Variable (Numerical)**"
   ]
  },
  {
   "cell_type": "code",
   "execution_count": 24,
   "metadata": {
    "colab": {
     "base_uri": "https://localhost:8080/",
     "height": 296
    },
    "executionInfo": {
     "elapsed": 62,
     "status": "ok",
     "timestamp": 1630421205001,
     "user": {
      "displayName": "Aishwarya L",
      "photoUrl": "",
      "userId": "17266723946839147574"
     },
     "user_tz": -330
    },
    "id": "3dVdcC57S-AR",
    "outputId": "9784fe18-c1d5-43aa-9fe9-10ce0a25fae9"
   },
   "outputs": [
    {
     "data": {
      "text/plain": [
       "<AxesSubplot:xlabel='Loan_Status', ylabel='ApplicantIncome'>"
      ]
     },
     "execution_count": 24,
     "metadata": {},
     "output_type": "execute_result"
    },
    {
     "data": {
      "image/png": "[encoded data removed]",
      "text/plain": [
       "<Figure size 432x288 with 1 Axes>"
      ]
     },
     "metadata": {
      "needs_background": "light"
     },
     "output_type": "display_data"
    }
   ],
   "source": [
    "sns.barplot(x=\"Loan_Status\", y=\"ApplicantIncome\", data=l)"
   ]
  },
  {
   "cell_type": "markdown",
   "metadata": {
    "id": "xjgnf5OU583X"
   },
   "source": [
    "From above plot it can be noted that for some Applicants are eligible as per their Income while some are not eligible"
   ]
  },
  {
   "cell_type": "code",
   "execution_count": 25,
   "metadata": {
    "colab": {
     "base_uri": "https://localhost:8080/",
     "height": 296
    },
    "executionInfo": {
     "elapsed": 47,
     "status": "ok",
     "timestamp": 1630421205004,
     "user": {
      "displayName": "Aishwarya L",
      "photoUrl": "",
      "userId": "17266723946839147574"
     },
     "user_tz": -330
    },
    "id": "A8kEQikvUHj1",
    "outputId": "ce706687-e708-4958-cfe6-fa1e11f1bb20"
   },
   "outputs": [
    {
     "data": {
      "text/plain": [
       "<AxesSubplot:xlabel='Loan_Status', ylabel='CoapplicantIncome'>"
      ]
     },
     "execution_count": 25,
     "metadata": {},
     "output_type": "execute_result"
    },
    {
     "data": {
      "image/png": "[encoded data removed]",
      "text/plain": [
       "<Figure size 432x288 with 1 Axes>"
      ]
     },
     "metadata": {
      "needs_background": "light"
     },
     "output_type": "display_data"
    }
   ],
   "source": [
    "sns.barplot(x=\"Loan_Status\", y=\"CoapplicantIncome\", data=l)"
   ]
  },
  {
   "cell_type": "markdown",
   "metadata": {
    "id": "s3Rcc_E26Er4"
   },
   "source": [
    "From above plot it can be noted that some Coapplicants Income was Eligible for Loan Approval."
   ]
  },
  {
   "cell_type": "code",
   "execution_count": 26,
   "metadata": {
    "colab": {
     "base_uri": "https://localhost:8080/",
     "height": 296
    },
    "executionInfo": {
     "elapsed": 41,
     "status": "ok",
     "timestamp": 1630421205005,
     "user": {
      "displayName": "Aishwarya L",
      "photoUrl": "",
      "userId": "17266723946839147574"
     },
     "user_tz": -330
    },
    "id": "fy9ZkQ-WS-M_",
    "outputId": "90594555-a075-4f00-d491-d6330b232931"
   },
   "outputs": [
    {
     "data": {
      "text/plain": [
       "<AxesSubplot:xlabel='Loan_Status', ylabel='LoanAmount'>"
      ]
     },
     "execution_count": 26,
     "metadata": {},
     "output_type": "execute_result"
    },
    {
     "data": {
      "image/png": "[encoded data removed]",
      "text/plain": [
       "<Figure size 432x288 with 1 Axes>"
      ]
     },
     "metadata": {
      "needs_background": "light"
     },
     "output_type": "display_data"
    }
   ],
   "source": [
    "sns.barplot(x=\"Loan_Status\", y=\"LoanAmount\", data=l)"
   ]
  },
  {
   "cell_type": "markdown",
   "metadata": {
    "id": "SErIAZxy6Kfb"
   },
   "source": [
    "From above plot it can be noted that most Applicants as per their Loan Amount are not eligible for Loan"
   ]
  },
  {
   "cell_type": "markdown",
   "metadata": {
    "id": "uuUTqNShZ_2E"
   },
   "source": [
    "# **PREPROCESSING**"
   ]
  },
  {
   "cell_type": "code",
   "execution_count": 27,
   "metadata": {
    "colab": {
     "base_uri": "https://localhost:8080/"
    },
    "executionInfo": {
     "elapsed": 1224,
     "status": "ok",
     "timestamp": 1630421206194,
     "user": {
      "displayName": "Aishwarya L",
      "photoUrl": "",
      "userId": "17266723946839147574"
     },
     "user_tz": -330
    },
    "id": "gaO0PeABaTyd",
    "outputId": "43362958-957a-4ac0-e246-a8dcd814e389"
   },
   "outputs": [
    {
     "data": {
      "text/plain": [
       "(614, 12)"
      ]
     },
     "execution_count": 27,
     "metadata": {},
     "output_type": "execute_result"
    }
   ],
   "source": [
    "l.shape"
   ]
  },
  {
   "cell_type": "code",
   "execution_count": 28,
   "metadata": {
    "colab": {
     "base_uri": "https://localhost:8080/"
    },
    "executionInfo": {
     "elapsed": 157,
     "status": "ok",
     "timestamp": 1630421206196,
     "user": {
      "displayName": "Aishwarya L",
      "photoUrl": "",
      "userId": "17266723946839147574"
     },
     "user_tz": -330
    },
    "id": "ABE_sw0FLcNQ",
    "outputId": "662b4dd2-b462-4588-d868-4d78c1a53fb9"
   },
   "outputs": [
    {
     "name": "stdout",
     "output_type": "stream",
     "text": [
      "<class 'pandas.core.frame.DataFrame'>\n",
      "RangeIndex: 614 entries, 0 to 613\n",
      "Data columns (total 12 columns):\n",
      " #   Column             Non-Null Count  Dtype  \n",
      "---  ------             --------------  -----  \n",
      " 0   Gender             601 non-null    object \n",
      " 1   Married            611 non-null    object \n",
      " 2   Dependents         599 non-null    object \n",
      " 3   Education          614 non-null    object \n",
      " 4   Self_Employed      582 non-null    object \n",
      " 5   ApplicantIncome    614 non-null    int64  \n",
      " 6   CoapplicantIncome  614 non-null    float64\n",
      " 7   LoanAmount         592 non-null    float64\n",
      " 8   Loan_Amount_Term   600 non-null    float64\n",
      " 9   Credit_History     564 non-null    float64\n",
      " 10  Property_Area      614 non-null    object \n",
      " 11  Loan_Status        614 non-null    object \n",
      "dtypes: float64(4), int64(1), object(7)\n",
      "memory usage: 57.7+ KB\n"
     ]
    }
   ],
   "source": [
    "l.info()"
   ]
  },
  {
   "cell_type": "markdown",
   "metadata": {
    "id": "ybxZSMQ56XJe"
   },
   "source": [
    "From above it can be noted that there are Missing Values in the Dataset"
   ]
  },
  {
   "cell_type": "markdown",
   "metadata": {
    "id": "IwuLsZWGaLeT"
   },
   "source": [
    "**Handling Missing Data**"
   ]
  },
  {
   "cell_type": "code",
   "execution_count": 29,
   "metadata": {
    "executionInfo": {
     "elapsed": 149,
     "status": "ok",
     "timestamp": 1630421206199,
     "user": {
      "displayName": "Aishwarya L",
      "photoUrl": "",
      "userId": "17266723946839147574"
     },
     "user_tz": -330
    },
    "id": "AnAYtCuYwnGP"
   },
   "outputs": [],
   "source": [
    "#1.Numerical Columns"
   ]
  },
  {
   "cell_type": "code",
   "execution_count": 30,
   "metadata": {
    "colab": {
     "base_uri": "https://localhost:8080/"
    },
    "executionInfo": {
     "elapsed": 147,
     "status": "ok",
     "timestamp": 1630421206201,
     "user": {
      "displayName": "Aishwarya L",
      "photoUrl": "",
      "userId": "17266723946839147574"
     },
     "user_tz": -330
    },
    "id": "bz0aziZhLciM",
    "outputId": "3bd442e4-2ca9-4fe4-c048-52a64ed0d4f8"
   },
   "outputs": [
    {
     "data": {
      "text/plain": [
       "array([ nan, 128.,  66., 120., 141., 267.,  95., 158., 168., 349.,  70.,\n",
       "       109., 200., 114.,  17., 125., 100.,  76., 133., 115., 104., 315.,\n",
       "       116., 112., 151., 191., 122., 110.,  35., 201.,  74., 106., 320.,\n",
       "       144., 184.,  80.,  47.,  75., 134.,  96.,  88.,  44., 286.,  97.,\n",
       "       135., 180.,  99., 165., 258., 126., 312., 136., 172.,  81., 187.,\n",
       "       113., 176., 130., 111., 167., 265.,  50., 210., 175., 131., 188.,\n",
       "        25., 137., 160., 225., 216.,  94., 139., 152., 118., 185., 154.,\n",
       "        85., 259., 194.,  93., 370., 182., 650., 102., 290.,  84., 242.,\n",
       "       129.,  30., 244., 600., 255.,  98., 275., 121.,  63., 700.,  87.,\n",
       "       101., 495.,  67.,  73., 260., 108.,  58.,  48., 164., 170.,  83.,\n",
       "        90., 166., 124.,  55.,  59., 127., 214., 240.,  72.,  60., 138.,\n",
       "        42., 280., 140., 155., 123., 279., 192., 304., 330., 150., 207.,\n",
       "       436.,  78.,  54.,  89., 143., 105., 132., 480.,  56., 159., 300.,\n",
       "       376., 117.,  71., 490., 173.,  46., 228., 308., 236., 570., 380.,\n",
       "       296., 156., 103.,  45.,  65.,  53., 360.,  62., 218., 178., 239.,\n",
       "       405., 148., 190., 149., 153., 162., 230.,  86., 234., 246., 500.,\n",
       "       186., 119., 107., 209., 208., 243.,  40., 250., 311., 400., 161.,\n",
       "       196., 324., 157., 145., 181.,  26., 211.,   9., 205.,  36.,  61.,\n",
       "       146., 292., 142., 350., 496., 253.])"
      ]
     },
     "execution_count": 30,
     "metadata": {},
     "output_type": "execute_result"
    }
   ],
   "source": [
    "l['LoanAmount'].unique()"
   ]
  },
  {
   "cell_type": "code",
   "execution_count": 31,
   "metadata": {
    "colab": {
     "base_uri": "https://localhost:8080/"
    },
    "executionInfo": {
     "elapsed": 137,
     "status": "ok",
     "timestamp": 1630421206203,
     "user": {
      "displayName": "Aishwarya L",
      "photoUrl": "",
      "userId": "17266723946839147574"
     },
     "user_tz": -330
    },
    "id": "q3NpWtw2vNy5",
    "outputId": "82192780-908f-4c33-ef70-56794133d88b"
   },
   "outputs": [
    {
     "data": {
      "text/plain": [
       "array([360., 120., 240.,  nan, 180.,  60., 300., 480.,  36.,  84.,  12.])"
      ]
     },
     "execution_count": 31,
     "metadata": {},
     "output_type": "execute_result"
    }
   ],
   "source": [
    "l['Loan_Amount_Term'].unique()"
   ]
  },
  {
   "cell_type": "code",
   "execution_count": 32,
   "metadata": {
    "colab": {
     "base_uri": "https://localhost:8080/"
    },
    "executionInfo": {
     "elapsed": 125,
     "status": "ok",
     "timestamp": 1630421206205,
     "user": {
      "displayName": "Aishwarya L",
      "photoUrl": "",
      "userId": "17266723946839147574"
     },
     "user_tz": -330
    },
    "id": "slDI0c8m51aM",
    "outputId": "cbd25859-2aaf-428f-e714-eda767826d91"
   },
   "outputs": [
    {
     "data": {
      "text/plain": [
       "array([ 1.,  0., nan])"
      ]
     },
     "execution_count": 32,
     "metadata": {},
     "output_type": "execute_result"
    }
   ],
   "source": [
    "l['Credit_History'].unique()"
   ]
  },
  {
   "cell_type": "code",
   "execution_count": 33,
   "metadata": {
    "colab": {
     "base_uri": "https://localhost:8080/",
     "height": 295
    },
    "executionInfo": {
     "elapsed": 115,
     "status": "ok",
     "timestamp": 1630421206207,
     "user": {
      "displayName": "Aishwarya L",
      "photoUrl": "",
      "userId": "17266723946839147574"
     },
     "user_tz": -330
    },
    "id": "DEkM5fFrmZVX",
    "outputId": "c6d69039-c94f-450b-c418-b430d74cf2eb"
   },
   "outputs": [
    {
     "data": {
      "text/plain": [
       "<matplotlib.lines.Line2D at 0x2764037ae80>"
      ]
     },
     "execution_count": 33,
     "metadata": {},
     "output_type": "execute_result"
    },
    {
     "data": {
      "image/png": "[encoded data removed]",
      "text/plain": [
       "<Figure size 432x288 with 1 Axes>"
      ]
     },
     "metadata": {
      "needs_background": "light"
     },
     "output_type": "display_data"
    }
   ],
   "source": [
    "#checking whether data is normally distributed\n",
    "sns.distplot(l['LoanAmount'])\n",
    "plt.axvline(l['LoanAmount'].mean() , color=\"green\")\n",
    "plt.axvline(l['LoanAmount'].median() , color=\"red\")"
   ]
  },
  {
   "cell_type": "code",
   "execution_count": 34,
   "metadata": {
    "colab": {
     "base_uri": "https://localhost:8080/",
     "height": 296
    },
    "executionInfo": {
     "elapsed": 98,
     "status": "ok",
     "timestamp": 1630421206212,
     "user": {
      "displayName": "Aishwarya L",
      "photoUrl": "",
      "userId": "17266723946839147574"
     },
     "user_tz": -330
    },
    "id": "ucRiFoxEvZpD",
    "outputId": "0360d655-17f5-4869-a9ab-b800147044cb"
   },
   "outputs": [
    {
     "data": {
      "text/plain": [
       "<matplotlib.lines.Line2D at 0x276404a5e80>"
      ]
     },
     "execution_count": 34,
     "metadata": {},
     "output_type": "execute_result"
    },
    {
     "data": {
      "image/png": "[encoded data removed]",
      "text/plain": [
       "<Figure size 432x288 with 1 Axes>"
      ]
     },
     "metadata": {
      "needs_background": "light"
     },
     "output_type": "display_data"
    }
   ],
   "source": [
    "sns.distplot(l['Loan_Amount_Term'])\n",
    "plt.axvline(l['Loan_Amount_Term'].mean() , color=\"green\")\n",
    "plt.axvline(l['Loan_Amount_Term'].median() , color=\"red\")"
   ]
  },
  {
   "cell_type": "code",
   "execution_count": 35,
   "metadata": {
    "colab": {
     "base_uri": "https://localhost:8080/",
     "height": 297
    },
    "executionInfo": {
     "elapsed": 1104,
     "status": "ok",
     "timestamp": 1630421207242,
     "user": {
      "displayName": "Aishwarya L",
      "photoUrl": "",
      "userId": "17266723946839147574"
     },
     "user_tz": -330
    },
    "id": "QAZgviWo6MZm",
    "outputId": "27b7d884-6661-41fa-d9f1-da9f357a2668"
   },
   "outputs": [
    {
     "data": {
      "text/plain": [
       "<matplotlib.lines.Line2D at 0x2764053a4f0>"
      ]
     },
     "execution_count": 35,
     "metadata": {},
     "output_type": "execute_result"
    },
    {
     "data": {
      "image/png": "[encoded data removed]",
      "text/plain": [
       "<Figure size 432x288 with 1 Axes>"
      ]
     },
     "metadata": {
      "needs_background": "light"
     },
     "output_type": "display_data"
    }
   ],
   "source": [
    "sns.distplot(l['Credit_History'])\n",
    "plt.axvline(l['Credit_History'].mean() , color=\"green\")\n",
    "plt.axvline(l['Credit_History'].median() , color=\"red\")"
   ]
  },
  {
   "cell_type": "code",
   "execution_count": 36,
   "metadata": {
    "executionInfo": {
     "elapsed": 138,
     "status": "ok",
     "timestamp": 1630421207244,
     "user": {
      "displayName": "Aishwarya L",
      "photoUrl": "",
      "userId": "17266723946839147574"
     },
     "user_tz": -330
    },
    "id": "S-0dshfVmZYC"
   },
   "outputs": [],
   "source": [
    "#from above distplots we can note that data is not normally distributed , so we will replace missing values by 'median'"
   ]
  },
  {
   "cell_type": "code",
   "execution_count": 37,
   "metadata": {
    "executionInfo": {
     "elapsed": 139,
     "status": "ok",
     "timestamp": 1630421207249,
     "user": {
      "displayName": "Aishwarya L",
      "photoUrl": "",
      "userId": "17266723946839147574"
     },
     "user_tz": -330
    },
    "id": "b0Wu_ceBmZdz"
   },
   "outputs": [],
   "source": [
    "l['LoanAmount'].fillna(l['LoanAmount'].median(),inplace=True)\n",
    "l['Loan_Amount_Term'].fillna(l['Loan_Amount_Term'].median(),inplace=True)\n",
    "l['Credit_History'].fillna(l['Credit_History'].median(),inplace=True)"
   ]
  },
  {
   "cell_type": "code",
   "execution_count": 38,
   "metadata": {
    "colab": {
     "base_uri": "https://localhost:8080/"
    },
    "executionInfo": {
     "elapsed": 138,
     "status": "ok",
     "timestamp": 1630421207251,
     "user": {
      "displayName": "Aishwarya L",
      "photoUrl": "",
      "userId": "17266723946839147574"
     },
     "user_tz": -330
    },
    "id": "NhhYzDNimZgC",
    "outputId": "d3fcf8e2-b366-4528-f051-b0dab73c3a97"
   },
   "outputs": [
    {
     "data": {
      "text/plain": [
       "array([128.,  66., 120., 141., 267.,  95., 158., 168., 349.,  70., 109.,\n",
       "       200., 114.,  17., 125., 100.,  76., 133., 115., 104., 315., 116.,\n",
       "       112., 151., 191., 122., 110.,  35., 201.,  74., 106., 320., 144.,\n",
       "       184.,  80.,  47.,  75., 134.,  96.,  88.,  44., 286.,  97., 135.,\n",
       "       180.,  99., 165., 258., 126., 312., 136., 172.,  81., 187., 113.,\n",
       "       176., 130., 111., 167., 265.,  50., 210., 175., 131., 188.,  25.,\n",
       "       137., 160., 225., 216.,  94., 139., 152., 118., 185., 154.,  85.,\n",
       "       259., 194.,  93., 370., 182., 650., 102., 290.,  84., 242., 129.,\n",
       "        30., 244., 600., 255.,  98., 275., 121.,  63., 700.,  87., 101.,\n",
       "       495.,  67.,  73., 260., 108.,  58.,  48., 164., 170.,  83.,  90.,\n",
       "       166., 124.,  55.,  59., 127., 214., 240.,  72.,  60., 138.,  42.,\n",
       "       280., 140., 155., 123., 279., 192., 304., 330., 150., 207., 436.,\n",
       "        78.,  54.,  89., 143., 105., 132., 480.,  56., 159., 300., 376.,\n",
       "       117.,  71., 490., 173.,  46., 228., 308., 236., 570., 380., 296.,\n",
       "       156., 103.,  45.,  65.,  53., 360.,  62., 218., 178., 239., 405.,\n",
       "       148., 190., 149., 153., 162., 230.,  86., 234., 246., 500., 186.,\n",
       "       119., 107., 209., 208., 243.,  40., 250., 311., 400., 161., 196.,\n",
       "       324., 157., 145., 181.,  26., 211.,   9., 205.,  36.,  61., 146.,\n",
       "       292., 142., 350., 496., 253.])"
      ]
     },
     "execution_count": 38,
     "metadata": {},
     "output_type": "execute_result"
    }
   ],
   "source": [
    "#to check whether nan values are removed\n",
    "l['LoanAmount'].unique()"
   ]
  },
  {
   "cell_type": "code",
   "execution_count": 39,
   "metadata": {
    "colab": {
     "base_uri": "https://localhost:8080/"
    },
    "executionInfo": {
     "elapsed": 118,
     "status": "ok",
     "timestamp": 1630421207252,
     "user": {
      "displayName": "Aishwarya L",
      "photoUrl": "",
      "userId": "17266723946839147574"
     },
     "user_tz": -330
    },
    "id": "LloVTrvImZjD",
    "outputId": "9ac41f1e-1229-474e-fa6a-fef2092c72a5"
   },
   "outputs": [
    {
     "data": {
      "text/plain": [
       "array([360., 120., 240., 180.,  60., 300., 480.,  36.,  84.,  12.])"
      ]
     },
     "execution_count": 39,
     "metadata": {},
     "output_type": "execute_result"
    }
   ],
   "source": [
    "l['Loan_Amount_Term'].unique()"
   ]
  },
  {
   "cell_type": "code",
   "execution_count": 40,
   "metadata": {
    "colab": {
     "base_uri": "https://localhost:8080/"
    },
    "executionInfo": {
     "elapsed": 101,
     "status": "ok",
     "timestamp": 1630421207253,
     "user": {
      "displayName": "Aishwarya L",
      "photoUrl": "",
      "userId": "17266723946839147574"
     },
     "user_tz": -330
    },
    "id": "7buSxX0l6kVI",
    "outputId": "eb99f1a1-976b-4fd1-e4fb-ab400a1de66e"
   },
   "outputs": [
    {
     "data": {
      "text/plain": [
       "array([1., 0.])"
      ]
     },
     "execution_count": 40,
     "metadata": {},
     "output_type": "execute_result"
    }
   ],
   "source": [
    "l['Credit_History'].unique()"
   ]
  },
  {
   "cell_type": "code",
   "execution_count": 41,
   "metadata": {
    "executionInfo": {
     "elapsed": 93,
     "status": "ok",
     "timestamp": 1630421207255,
     "user": {
      "displayName": "Aishwarya L",
      "photoUrl": "",
      "userId": "17266723946839147574"
     },
     "user_tz": -330
    },
    "id": "isqKncoOwvdV"
   },
   "outputs": [],
   "source": [
    "#2.Categorical Columns"
   ]
  },
  {
   "cell_type": "code",
   "execution_count": 42,
   "metadata": {
    "colab": {
     "base_uri": "https://localhost:8080/"
    },
    "executionInfo": {
     "elapsed": 93,
     "status": "ok",
     "timestamp": 1630421207256,
     "user": {
      "displayName": "Aishwarya L",
      "photoUrl": "",
      "userId": "17266723946839147574"
     },
     "user_tz": -330
    },
    "id": "JyEXbBZ-wPI_",
    "outputId": "d11e2a9f-4e52-4e0c-b9ae-38eeb3d1e1e6"
   },
   "outputs": [
    {
     "name": "stdout",
     "output_type": "stream",
     "text": [
      "<class 'pandas.core.frame.DataFrame'>\n",
      "RangeIndex: 614 entries, 0 to 613\n",
      "Data columns (total 12 columns):\n",
      " #   Column             Non-Null Count  Dtype  \n",
      "---  ------             --------------  -----  \n",
      " 0   Gender             601 non-null    object \n",
      " 1   Married            611 non-null    object \n",
      " 2   Dependents         599 non-null    object \n",
      " 3   Education          614 non-null    object \n",
      " 4   Self_Employed      582 non-null    object \n",
      " 5   ApplicantIncome    614 non-null    int64  \n",
      " 6   CoapplicantIncome  614 non-null    float64\n",
      " 7   LoanAmount         614 non-null    float64\n",
      " 8   Loan_Amount_Term   614 non-null    float64\n",
      " 9   Credit_History     614 non-null    float64\n",
      " 10  Property_Area      614 non-null    object \n",
      " 11  Loan_Status        614 non-null    object \n",
      "dtypes: float64(4), int64(1), object(7)\n",
      "memory usage: 57.7+ KB\n"
     ]
    }
   ],
   "source": [
    "l.info()"
   ]
  },
  {
   "cell_type": "code",
   "execution_count": 43,
   "metadata": {
    "executionInfo": {
     "elapsed": 85,
     "status": "ok",
     "timestamp": 1630421207257,
     "user": {
      "displayName": "Aishwarya L",
      "photoUrl": "",
      "userId": "17266723946839147574"
     },
     "user_tz": -330
    },
    "id": "wfsMxc5awPLl"
   },
   "outputs": [],
   "source": [
    "l['Gender'] = l['Gender'].fillna(l['Gender'].mode()[0])\n",
    "l['Married'] = l['Married'].fillna(l['Married'].mode()[0])\n",
    "l['Dependents'] = l['Dependents'].fillna(l['Dependents'].mode()[0])\n",
    "l['Self_Employed'] = l['Self_Employed'].fillna(l['Self_Employed'].mode()[0])"
   ]
  },
  {
   "cell_type": "code",
   "execution_count": 44,
   "metadata": {
    "colab": {
     "base_uri": "https://localhost:8080/"
    },
    "executionInfo": {
     "elapsed": 86,
     "status": "ok",
     "timestamp": 1630421207259,
     "user": {
      "displayName": "Aishwarya L",
      "photoUrl": "",
      "userId": "17266723946839147574"
     },
     "user_tz": -330
    },
    "id": "hixuvQAvwPPI",
    "outputId": "dcacaf49-68bc-49da-f1e0-43781e46908e"
   },
   "outputs": [
    {
     "name": "stdout",
     "output_type": "stream",
     "text": [
      "<class 'pandas.core.frame.DataFrame'>\n",
      "RangeIndex: 614 entries, 0 to 613\n",
      "Data columns (total 12 columns):\n",
      " #   Column             Non-Null Count  Dtype  \n",
      "---  ------             --------------  -----  \n",
      " 0   Gender             614 non-null    object \n",
      " 1   Married            614 non-null    object \n",
      " 2   Dependents         614 non-null    object \n",
      " 3   Education          614 non-null    object \n",
      " 4   Self_Employed      614 non-null    object \n",
      " 5   ApplicantIncome    614 non-null    int64  \n",
      " 6   CoapplicantIncome  614 non-null    float64\n",
      " 7   LoanAmount         614 non-null    float64\n",
      " 8   Loan_Amount_Term   614 non-null    float64\n",
      " 9   Credit_History     614 non-null    float64\n",
      " 10  Property_Area      614 non-null    object \n",
      " 11  Loan_Status        614 non-null    object \n",
      "dtypes: float64(4), int64(1), object(7)\n",
      "memory usage: 57.7+ KB\n"
     ]
    }
   ],
   "source": [
    "#to check whether missing values are being removed\n",
    "l.info()"
   ]
  },
  {
   "cell_type": "markdown",
   "metadata": {
    "id": "Y65wfLr16i-3"
   },
   "source": [
    "As data is proper so all missing values are being removed"
   ]
  },
  {
   "cell_type": "markdown",
   "metadata": {
    "id": "yaR0_FuitYrE"
   },
   "source": [
    "**Handling Categorical data**"
   ]
  },
  {
   "cell_type": "code",
   "execution_count": 45,
   "metadata": {
    "executionInfo": {
     "elapsed": 77,
     "status": "ok",
     "timestamp": 1630421207264,
     "user": {
      "displayName": "Aishwarya L",
      "photoUrl": "",
      "userId": "17266723946839147574"
     },
     "user_tz": -330
    },
    "id": "IKC9KfK3tWzM"
   },
   "outputs": [],
   "source": [
    "l_cat = l.select_dtypes(object)\n",
    "l_num = l.select_dtypes(['float64' , 'int64'])"
   ]
  },
  {
   "cell_type": "code",
   "execution_count": 46,
   "metadata": {},
   "outputs": [
    {
     "data": {
      "text/html": [
       "<div>\n",
       "<style scoped>\n",
       "    .dataframe tbody tr th:only-of-type {\n",
       "        vertical-align: middle;\n",
       "    }\n",
       "\n",
       "    .dataframe tbody tr th {\n",
       "        vertical-align: top;\n",
       "    }\n",
       "\n",
       "    .dataframe thead th {\n",
       "        text-align: right;\n",
       "    }\n",
       "</style>\n",
       "<table border=\"1\" class=\"dataframe\">\n",
       "  <thead>\n",
       "    <tr style=\"text-align: right;\">\n",
       "      <th></th>\n",
       "      <th>Gender</th>\n",
       "      <th>Married</th>\n",
       "      <th>Dependents</th>\n",
       "      <th>Education</th>\n",
       "      <th>Self_Employed</th>\n",
       "      <th>Property_Area</th>\n",
       "      <th>Loan_Status</th>\n",
       "    </tr>\n",
       "  </thead>\n",
       "  <tbody>\n",
       "    <tr>\n",
       "      <th>0</th>\n",
       "      <td>Male</td>\n",
       "      <td>No</td>\n",
       "      <td>0</td>\n",
       "      <td>Graduate</td>\n",
       "      <td>No</td>\n",
       "      <td>Urban</td>\n",
       "      <td>Y</td>\n",
       "    </tr>\n",
       "    <tr>\n",
       "      <th>1</th>\n",
       "      <td>Male</td>\n",
       "      <td>Yes</td>\n",
       "      <td>1</td>\n",
       "      <td>Graduate</td>\n",
       "      <td>No</td>\n",
       "      <td>Rural</td>\n",
       "      <td>N</td>\n",
       "    </tr>\n",
       "    <tr>\n",
       "      <th>2</th>\n",
       "      <td>Male</td>\n",
       "      <td>Yes</td>\n",
       "      <td>0</td>\n",
       "      <td>Graduate</td>\n",
       "      <td>Yes</td>\n",
       "      <td>Urban</td>\n",
       "      <td>Y</td>\n",
       "    </tr>\n",
       "    <tr>\n",
       "      <th>3</th>\n",
       "      <td>Male</td>\n",
       "      <td>Yes</td>\n",
       "      <td>0</td>\n",
       "      <td>Not Graduate</td>\n",
       "      <td>No</td>\n",
       "      <td>Urban</td>\n",
       "      <td>Y</td>\n",
       "    </tr>\n",
       "    <tr>\n",
       "      <th>4</th>\n",
       "      <td>Male</td>\n",
       "      <td>No</td>\n",
       "      <td>0</td>\n",
       "      <td>Graduate</td>\n",
       "      <td>No</td>\n",
       "      <td>Urban</td>\n",
       "      <td>Y</td>\n",
       "    </tr>\n",
       "  </tbody>\n",
       "</table>\n",
       "</div>"
      ],
      "text/plain": [
       "  Gender Married Dependents     Education Self_Employed Property_Area  \\\n",
       "0   Male      No          0      Graduate            No         Urban   \n",
       "1   Male     Yes          1      Graduate            No         Rural   \n",
       "2   Male     Yes          0      Graduate           Yes         Urban   \n",
       "3   Male     Yes          0  Not Graduate            No         Urban   \n",
       "4   Male      No          0      Graduate            No         Urban   \n",
       "\n",
       "  Loan_Status  \n",
       "0           Y  \n",
       "1           N  \n",
       "2           Y  \n",
       "3           Y  \n",
       "4           Y  "
      ]
     },
     "execution_count": 46,
     "metadata": {},
     "output_type": "execute_result"
    }
   ],
   "source": [
    "l_cat.head()"
   ]
  },
  {
   "cell_type": "code",
   "execution_count": 47,
   "metadata": {
    "colab": {
     "base_uri": "https://localhost:8080/",
     "height": 200
    },
    "executionInfo": {
     "elapsed": 78,
     "status": "ok",
     "timestamp": 1630421207269,
     "user": {
      "displayName": "Aishwarya L",
      "photoUrl": "",
      "userId": "17266723946839147574"
     },
     "user_tz": -330
    },
    "id": "uvunK5pJtW6f",
    "outputId": "8b4aab67-0c7d-41d0-a7cd-9d6dbdceb4a4"
   },
   "outputs": [
    {
     "data": {
      "text/html": [
       "<div>\n",
       "<style scoped>\n",
       "    .dataframe tbody tr th:only-of-type {\n",
       "        vertical-align: middle;\n",
       "    }\n",
       "\n",
       "    .dataframe tbody tr th {\n",
       "        vertical-align: top;\n",
       "    }\n",
       "\n",
       "    .dataframe thead th {\n",
       "        text-align: right;\n",
       "    }\n",
       "</style>\n",
       "<table border=\"1\" class=\"dataframe\">\n",
       "  <thead>\n",
       "    <tr style=\"text-align: right;\">\n",
       "      <th></th>\n",
       "      <th>ApplicantIncome</th>\n",
       "      <th>CoapplicantIncome</th>\n",
       "      <th>LoanAmount</th>\n",
       "      <th>Loan_Amount_Term</th>\n",
       "      <th>Credit_History</th>\n",
       "    </tr>\n",
       "  </thead>\n",
       "  <tbody>\n",
       "    <tr>\n",
       "      <th>0</th>\n",
       "      <td>5849</td>\n",
       "      <td>0.0</td>\n",
       "      <td>128.0</td>\n",
       "      <td>360.0</td>\n",
       "      <td>1.0</td>\n",
       "    </tr>\n",
       "    <tr>\n",
       "      <th>1</th>\n",
       "      <td>4583</td>\n",
       "      <td>1508.0</td>\n",
       "      <td>128.0</td>\n",
       "      <td>360.0</td>\n",
       "      <td>1.0</td>\n",
       "    </tr>\n",
       "    <tr>\n",
       "      <th>2</th>\n",
       "      <td>3000</td>\n",
       "      <td>0.0</td>\n",
       "      <td>66.0</td>\n",
       "      <td>360.0</td>\n",
       "      <td>1.0</td>\n",
       "    </tr>\n",
       "    <tr>\n",
       "      <th>3</th>\n",
       "      <td>2583</td>\n",
       "      <td>2358.0</td>\n",
       "      <td>120.0</td>\n",
       "      <td>360.0</td>\n",
       "      <td>1.0</td>\n",
       "    </tr>\n",
       "    <tr>\n",
       "      <th>4</th>\n",
       "      <td>6000</td>\n",
       "      <td>0.0</td>\n",
       "      <td>141.0</td>\n",
       "      <td>360.0</td>\n",
       "      <td>1.0</td>\n",
       "    </tr>\n",
       "  </tbody>\n",
       "</table>\n",
       "</div>"
      ],
      "text/plain": [
       "   ApplicantIncome  CoapplicantIncome  LoanAmount  Loan_Amount_Term  \\\n",
       "0             5849                0.0       128.0             360.0   \n",
       "1             4583             1508.0       128.0             360.0   \n",
       "2             3000                0.0        66.0             360.0   \n",
       "3             2583             2358.0       120.0             360.0   \n",
       "4             6000                0.0       141.0             360.0   \n",
       "\n",
       "   Credit_History  \n",
       "0             1.0  \n",
       "1             1.0  \n",
       "2             1.0  \n",
       "3             1.0  \n",
       "4             1.0  "
      ]
     },
     "execution_count": 47,
     "metadata": {},
     "output_type": "execute_result"
    }
   ],
   "source": [
    "l_num.head()"
   ]
  },
  {
   "cell_type": "code",
   "execution_count": 48,
   "metadata": {
    "colab": {
     "base_uri": "https://localhost:8080/",
     "height": 200
    },
    "executionInfo": {
     "elapsed": 78,
     "status": "ok",
     "timestamp": 1630421207271,
     "user": {
      "displayName": "Aishwarya L",
      "photoUrl": "",
      "userId": "17266723946839147574"
     },
     "user_tz": -330
    },
    "id": "jkifAMdrtW-4",
    "outputId": "b0f798b5-9f0a-43bb-ef1d-021125a0a3f2"
   },
   "outputs": [
    {
     "data": {
      "text/html": [
       "<div>\n",
       "<style scoped>\n",
       "    .dataframe tbody tr th:only-of-type {\n",
       "        vertical-align: middle;\n",
       "    }\n",
       "\n",
       "    .dataframe tbody tr th {\n",
       "        vertical-align: top;\n",
       "    }\n",
       "\n",
       "    .dataframe thead th {\n",
       "        text-align: right;\n",
       "    }\n",
       "</style>\n",
       "<table border=\"1\" class=\"dataframe\">\n",
       "  <thead>\n",
       "    <tr style=\"text-align: right;\">\n",
       "      <th></th>\n",
       "      <th>Gender</th>\n",
       "      <th>Married</th>\n",
       "      <th>Dependents</th>\n",
       "      <th>Education</th>\n",
       "      <th>Self_Employed</th>\n",
       "      <th>Property_Area</th>\n",
       "      <th>Loan_Status</th>\n",
       "    </tr>\n",
       "  </thead>\n",
       "  <tbody>\n",
       "    <tr>\n",
       "      <th>0</th>\n",
       "      <td>1</td>\n",
       "      <td>0</td>\n",
       "      <td>0</td>\n",
       "      <td>0</td>\n",
       "      <td>0</td>\n",
       "      <td>2</td>\n",
       "      <td>1</td>\n",
       "    </tr>\n",
       "    <tr>\n",
       "      <th>1</th>\n",
       "      <td>1</td>\n",
       "      <td>1</td>\n",
       "      <td>1</td>\n",
       "      <td>0</td>\n",
       "      <td>0</td>\n",
       "      <td>0</td>\n",
       "      <td>0</td>\n",
       "    </tr>\n",
       "    <tr>\n",
       "      <th>2</th>\n",
       "      <td>1</td>\n",
       "      <td>1</td>\n",
       "      <td>0</td>\n",
       "      <td>0</td>\n",
       "      <td>1</td>\n",
       "      <td>2</td>\n",
       "      <td>1</td>\n",
       "    </tr>\n",
       "    <tr>\n",
       "      <th>3</th>\n",
       "      <td>1</td>\n",
       "      <td>1</td>\n",
       "      <td>0</td>\n",
       "      <td>1</td>\n",
       "      <td>0</td>\n",
       "      <td>2</td>\n",
       "      <td>1</td>\n",
       "    </tr>\n",
       "    <tr>\n",
       "      <th>4</th>\n",
       "      <td>1</td>\n",
       "      <td>0</td>\n",
       "      <td>0</td>\n",
       "      <td>0</td>\n",
       "      <td>0</td>\n",
       "      <td>2</td>\n",
       "      <td>1</td>\n",
       "    </tr>\n",
       "  </tbody>\n",
       "</table>\n",
       "</div>"
      ],
      "text/plain": [
       "   Gender  Married  Dependents  Education  Self_Employed  Property_Area  \\\n",
       "0       1        0           0          0              0              2   \n",
       "1       1        1           1          0              0              0   \n",
       "2       1        1           0          0              1              2   \n",
       "3       1        1           0          1              0              2   \n",
       "4       1        0           0          0              0              2   \n",
       "\n",
       "   Loan_Status  \n",
       "0            1  \n",
       "1            0  \n",
       "2            1  \n",
       "3            1  \n",
       "4            1  "
      ]
     },
     "execution_count": 48,
     "metadata": {},
     "output_type": "execute_result"
    }
   ],
   "source": [
    "from sklearn.preprocessing import LabelEncoder\n",
    "for col in l_cat:\n",
    "  le = LabelEncoder()\n",
    "  l_cat[col] = le.fit_transform(l_cat[col])\n",
    "l_cat.head()"
   ]
  },
  {
   "cell_type": "markdown",
   "metadata": {
    "id": "DeAgMH1D6q6k"
   },
   "source": [
    "All categorical data is transformed to numerical data"
   ]
  },
  {
   "cell_type": "code",
   "execution_count": 49,
   "metadata": {
    "executionInfo": {
     "elapsed": 78,
     "status": "ok",
     "timestamp": 1630421207272,
     "user": {
      "displayName": "Aishwarya L",
      "photoUrl": "",
      "userId": "17266723946839147574"
     },
     "user_tz": -330
    },
    "id": "wUdhPKEzvk0u"
   },
   "outputs": [],
   "source": [
    "#concating the dataframes of catagorical & numerical to form a new dataframe"
   ]
  },
  {
   "cell_type": "code",
   "execution_count": 50,
   "metadata": {
    "colab": {
     "base_uri": "https://localhost:8080/",
     "height": 200
    },
    "executionInfo": {
     "elapsed": 78,
     "status": "ok",
     "timestamp": 1630421207273,
     "user": {
      "displayName": "Aishwarya L",
      "photoUrl": "",
      "userId": "17266723946839147574"
     },
     "user_tz": -330
    },
    "id": "NdSdZhPKtXI8",
    "outputId": "df43ceb0-f41a-4280-c262-208e15eb512a"
   },
   "outputs": [
    {
     "data": {
      "text/html": [
       "<div>\n",
       "<style scoped>\n",
       "    .dataframe tbody tr th:only-of-type {\n",
       "        vertical-align: middle;\n",
       "    }\n",
       "\n",
       "    .dataframe tbody tr th {\n",
       "        vertical-align: top;\n",
       "    }\n",
       "\n",
       "    .dataframe thead th {\n",
       "        text-align: right;\n",
       "    }\n",
       "</style>\n",
       "<table border=\"1\" class=\"dataframe\">\n",
       "  <thead>\n",
       "    <tr style=\"text-align: right;\">\n",
       "      <th></th>\n",
       "      <th>ApplicantIncome</th>\n",
       "      <th>CoapplicantIncome</th>\n",
       "      <th>LoanAmount</th>\n",
       "      <th>Loan_Amount_Term</th>\n",
       "      <th>Credit_History</th>\n",
       "      <th>Gender</th>\n",
       "      <th>Married</th>\n",
       "      <th>Dependents</th>\n",
       "      <th>Education</th>\n",
       "      <th>Self_Employed</th>\n",
       "      <th>Property_Area</th>\n",
       "      <th>Loan_Status</th>\n",
       "    </tr>\n",
       "  </thead>\n",
       "  <tbody>\n",
       "    <tr>\n",
       "      <th>0</th>\n",
       "      <td>5849</td>\n",
       "      <td>0.0</td>\n",
       "      <td>128.0</td>\n",
       "      <td>360.0</td>\n",
       "      <td>1.0</td>\n",
       "      <td>1</td>\n",
       "      <td>0</td>\n",
       "      <td>0</td>\n",
       "      <td>0</td>\n",
       "      <td>0</td>\n",
       "      <td>2</td>\n",
       "      <td>1</td>\n",
       "    </tr>\n",
       "    <tr>\n",
       "      <th>1</th>\n",
       "      <td>4583</td>\n",
       "      <td>1508.0</td>\n",
       "      <td>128.0</td>\n",
       "      <td>360.0</td>\n",
       "      <td>1.0</td>\n",
       "      <td>1</td>\n",
       "      <td>1</td>\n",
       "      <td>1</td>\n",
       "      <td>0</td>\n",
       "      <td>0</td>\n",
       "      <td>0</td>\n",
       "      <td>0</td>\n",
       "    </tr>\n",
       "    <tr>\n",
       "      <th>2</th>\n",
       "      <td>3000</td>\n",
       "      <td>0.0</td>\n",
       "      <td>66.0</td>\n",
       "      <td>360.0</td>\n",
       "      <td>1.0</td>\n",
       "      <td>1</td>\n",
       "      <td>1</td>\n",
       "      <td>0</td>\n",
       "      <td>0</td>\n",
       "      <td>1</td>\n",
       "      <td>2</td>\n",
       "      <td>1</td>\n",
       "    </tr>\n",
       "    <tr>\n",
       "      <th>3</th>\n",
       "      <td>2583</td>\n",
       "      <td>2358.0</td>\n",
       "      <td>120.0</td>\n",
       "      <td>360.0</td>\n",
       "      <td>1.0</td>\n",
       "      <td>1</td>\n",
       "      <td>1</td>\n",
       "      <td>0</td>\n",
       "      <td>1</td>\n",
       "      <td>0</td>\n",
       "      <td>2</td>\n",
       "      <td>1</td>\n",
       "    </tr>\n",
       "    <tr>\n",
       "      <th>4</th>\n",
       "      <td>6000</td>\n",
       "      <td>0.0</td>\n",
       "      <td>141.0</td>\n",
       "      <td>360.0</td>\n",
       "      <td>1.0</td>\n",
       "      <td>1</td>\n",
       "      <td>0</td>\n",
       "      <td>0</td>\n",
       "      <td>0</td>\n",
       "      <td>0</td>\n",
       "      <td>2</td>\n",
       "      <td>1</td>\n",
       "    </tr>\n",
       "  </tbody>\n",
       "</table>\n",
       "</div>"
      ],
      "text/plain": [
       "   ApplicantIncome  CoapplicantIncome  LoanAmount  Loan_Amount_Term  \\\n",
       "0             5849                0.0       128.0             360.0   \n",
       "1             4583             1508.0       128.0             360.0   \n",
       "2             3000                0.0        66.0             360.0   \n",
       "3             2583             2358.0       120.0             360.0   \n",
       "4             6000                0.0       141.0             360.0   \n",
       "\n",
       "   Credit_History  Gender  Married  Dependents  Education  Self_Employed  \\\n",
       "0             1.0       1        0           0          0              0   \n",
       "1             1.0       1        1           1          0              0   \n",
       "2             1.0       1        1           0          0              1   \n",
       "3             1.0       1        1           0          1              0   \n",
       "4             1.0       1        0           0          0              0   \n",
       "\n",
       "   Property_Area  Loan_Status  \n",
       "0              2            1  \n",
       "1              0            0  \n",
       "2              2            1  \n",
       "3              2            1  \n",
       "4              2            1  "
      ]
     },
     "execution_count": 50,
     "metadata": {},
     "output_type": "execute_result"
    }
   ],
   "source": [
    "l_new = pd.concat([l_num , l_cat] , axis=1)\n",
    "l_new.head()"
   ]
  },
  {
   "cell_type": "markdown",
   "metadata": {
    "id": "yVg-mTnS6-vL"
   },
   "source": [
    "To Detect Outliers"
   ]
  },
  {
   "cell_type": "code",
   "execution_count": 51,
   "metadata": {
    "colab": {
     "base_uri": "https://localhost:8080/",
     "height": 1000
    },
    "executionInfo": {
     "elapsed": 1412,
     "status": "ok",
     "timestamp": 1630421208609,
     "user": {
      "displayName": "Aishwarya L",
      "photoUrl": "",
      "userId": "17266723946839147574"
     },
     "user_tz": -330
    },
    "id": "PXBGjzQ5FRCi",
    "outputId": "dece7b50-320e-449b-b934-0bcf42c8d37a"
   },
   "outputs": [
    {
     "name": "stdout",
     "output_type": "stream",
     "text": [
      "ApplicantIncome = 6.523526250899361\n"
     ]
    },
    {
     "data": {
      "image/png": "[encoded data removed]",
      "text/plain": [
       "<Figure size 432x288 with 1 Axes>"
      ]
     },
     "metadata": {
      "needs_background": "light"
     },
     "output_type": "display_data"
    },
    {
     "name": "stdout",
     "output_type": "stream",
     "text": [
      "-------------------------------------------------------------------------------\n",
      "CoapplicantIncome = 7.473216996340462\n"
     ]
    },
    {
     "data": {
      "image/png": "[encoded data removed]",
      "text/plain": [
       "<Figure size 432x288 with 1 Axes>"
      ]
     },
     "metadata": {
      "needs_background": "light"
     },
     "output_type": "display_data"
    },
    {
     "name": "stdout",
     "output_type": "stream",
     "text": [
      "-------------------------------------------------------------------------------\n",
      "LoanAmount = 2.736346927149759\n"
     ]
    },
    {
     "data": {
      "image/png": "[encoded data removed]",
      "text/plain": [
       "<Figure size 432x288 with 1 Axes>"
      ]
     },
     "metadata": {
      "needs_background": "light"
     },
     "output_type": "display_data"
    },
    {
     "name": "stdout",
     "output_type": "stream",
     "text": [
      "-------------------------------------------------------------------------------\n",
      "Loan_Amount_Term = -2.396239917101247\n"
     ]
    },
    {
     "data": {
      "image/png": "[encoded data removed]",
      "text/plain": [
       "<Figure size 432x288 with 1 Axes>"
      ]
     },
     "metadata": {
      "needs_background": "light"
     },
     "output_type": "display_data"
    },
    {
     "name": "stdout",
     "output_type": "stream",
     "text": [
      "-------------------------------------------------------------------------------\n",
      "Credit_History = -2.0170275689782207\n"
     ]
    },
    {
     "data": {
      "image/png": "[encoded data removed]",
      "text/plain": [
       "<Figure size 432x288 with 1 Axes>"
      ]
     },
     "metadata": {
      "needs_background": "light"
     },
     "output_type": "display_data"
    },
    {
     "name": "stdout",
     "output_type": "stream",
     "text": [
      "-------------------------------------------------------------------------------\n"
     ]
    }
   ],
   "source": [
    "from scipy.stats import skew\n",
    "for col in l_num:\n",
    "  print(f\"{col} = {skew(l_num[col])}\")\n",
    "  sns.distplot(l_num[col])\n",
    "  plt.show()\n",
    "  print(\"-------------------------------------------------------------------------------\")"
   ]
  },
  {
   "cell_type": "code",
   "execution_count": 52,
   "metadata": {
    "executionInfo": {
     "elapsed": 17,
     "status": "ok",
     "timestamp": 1630421208611,
     "user": {
      "displayName": "Aishwarya L",
      "photoUrl": "",
      "userId": "17266723946839147574"
     },
     "user_tz": -330
    },
    "id": "H3gFvThsGvC-"
   },
   "outputs": [],
   "source": [
    "#from above we can detect skewness in the data as follows :\n",
    "#1.ApplicantIncome = 6.523526250899361 : positive skewness\n",
    "#2.CoapplicantIncome = 7.473216996340462 : positive skewness\n",
    "#3.LoanAmount = 2.736346927149759 : positive skewness\n",
    "#4.Loan_Amount_Term = -2.396239917101247 : negative skewness\n",
    "#5.Credit_History = -2.0170275689782207 : negative skewness"
   ]
  },
  {
   "cell_type": "code",
   "execution_count": 53,
   "metadata": {
    "executionInfo": {
     "elapsed": 13,
     "status": "ok",
     "timestamp": 1630421208612,
     "user": {
      "displayName": "Aishwarya L",
      "photoUrl": "",
      "userId": "17266723946839147574"
     },
     "user_tz": -330
    },
    "id": "2GMKs-mfGvFf"
   },
   "outputs": [],
   "source": [
    "#checking correlation of target with the skewed columns"
   ]
  },
  {
   "cell_type": "code",
   "execution_count": 54,
   "metadata": {
    "colab": {
     "base_uri": "https://localhost:8080/",
     "height": 791
    },
    "executionInfo": {
     "elapsed": 1931,
     "status": "ok",
     "timestamp": 1630421210532,
     "user": {
      "displayName": "Aishwarya L",
      "photoUrl": "",
      "userId": "17266723946839147574"
     },
     "user_tz": -330
    },
    "id": "FeeaInP0GvJG",
    "outputId": "626b41a1-a0e7-42b3-f9b9-84bb3d49c2c0"
   },
   "outputs": [
    {
     "data": {
      "image/png": "[encoded data removed]",
      "text/plain": [
       "<Figure size 864x864 with 2 Axes>"
      ]
     },
     "metadata": {
      "needs_background": "light"
     },
     "output_type": "display_data"
    }
   ],
   "source": [
    "plt.figure(figsize=(12,12))\n",
    "sns.heatmap(l_new.corr(),annot=True)\n",
    "plt.show()"
   ]
  },
  {
   "cell_type": "code",
   "execution_count": 55,
   "metadata": {
    "executionInfo": {
     "elapsed": 141,
     "status": "ok",
     "timestamp": 1630421210540,
     "user": {
      "displayName": "Aishwarya L",
      "photoUrl": "",
      "userId": "17266723946839147574"
     },
     "user_tz": -330
    },
    "id": "_jUfM7dCFRFg"
   },
   "outputs": [],
   "source": [
    "#from heatmap we can understand that there is no correlation between target and ApplicantIncome , CoapplicantIncome , LoanAmount , Loan_Amount_Term \n",
    "#as there is no correlation we will remove skewness from these columns"
   ]
  },
  {
   "cell_type": "code",
   "execution_count": 56,
   "metadata": {
    "executionInfo": {
     "elapsed": 140,
     "status": "ok",
     "timestamp": 1630421210543,
     "user": {
      "displayName": "Aishwarya L",
      "photoUrl": "",
      "userId": "17266723946839147574"
     },
     "user_tz": -330
    },
    "id": "JNqx8ox48Qs_"
   },
   "outputs": [],
   "source": [
    "#to reduce skewness in 'ApplicantIncome' column"
   ]
  },
  {
   "cell_type": "code",
   "execution_count": 57,
   "metadata": {
    "colab": {
     "base_uri": "https://localhost:8080/"
    },
    "executionInfo": {
     "elapsed": 142,
     "status": "ok",
     "timestamp": 1630421210548,
     "user": {
      "displayName": "Aishwarya L",
      "photoUrl": "",
      "userId": "17266723946839147574"
     },
     "user_tz": -330
    },
    "id": "GOHXSPOrFRJX",
    "outputId": "f7a3516f-2524-4da7-ee2d-f68da4b63590"
   },
   "outputs": [
    {
     "data": {
      "text/plain": [
       "150"
      ]
     },
     "execution_count": 57,
     "metadata": {},
     "output_type": "execute_result"
    }
   ],
   "source": [
    "#to find minimum values\n",
    "min(l_new[\"ApplicantIncome\"])"
   ]
  },
  {
   "cell_type": "code",
   "execution_count": 58,
   "metadata": {
    "colab": {
     "base_uri": "https://localhost:8080/"
    },
    "executionInfo": {
     "elapsed": 121,
     "status": "ok",
     "timestamp": 1630421210551,
     "user": {
      "displayName": "Aishwarya L",
      "photoUrl": "",
      "userId": "17266723946839147574"
     },
     "user_tz": -330
    },
    "id": "K4_UQbYk3xXA",
    "outputId": "73802518-927c-4128-e3e2-c41d70f6cd8b"
   },
   "outputs": [
    {
     "data": {
      "text/plain": [
       "0.47840756970181564"
      ]
     },
     "execution_count": 58,
     "metadata": {},
     "output_type": "execute_result"
    }
   ],
   "source": [
    "#to reduce the value\n",
    "skew(np.log(l_new[\"ApplicantIncome\"]))"
   ]
  },
  {
   "cell_type": "code",
   "execution_count": 59,
   "metadata": {
    "executionInfo": {
     "elapsed": 115,
     "status": "ok",
     "timestamp": 1630421210554,
     "user": {
      "displayName": "Aishwarya L",
      "photoUrl": "",
      "userId": "17266723946839147574"
     },
     "user_tz": -330
    },
    "id": "hfL8aPpC7GRZ"
   },
   "outputs": [],
   "source": [
    "l_new[\"ApplicantIncome\"]=np.log(l_new[\"ApplicantIncome\"])"
   ]
  },
  {
   "cell_type": "code",
   "execution_count": 60,
   "metadata": {
    "colab": {
     "base_uri": "https://localhost:8080/",
     "height": 295
    },
    "executionInfo": {
     "elapsed": 115,
     "status": "ok",
     "timestamp": 1630421210555,
     "user": {
      "displayName": "Aishwarya L",
      "photoUrl": "",
      "userId": "17266723946839147574"
     },
     "user_tz": -330
    },
    "id": "1SDuUGok3xZk",
    "outputId": "b27dc8ef-9829-43e4-d819-099b0652a3c6"
   },
   "outputs": [
    {
     "name": "stdout",
     "output_type": "stream",
     "text": [
      "0.47840756970181564\n"
     ]
    },
    {
     "data": {
      "image/png": "[encoded data removed]",
      "text/plain": [
       "<Figure size 432x288 with 1 Axes>"
      ]
     },
     "metadata": {
      "needs_background": "light"
     },
     "output_type": "display_data"
    }
   ],
   "source": [
    "print(skew(l_new[\"ApplicantIncome\"]))\n",
    "sns.distplot(l_new[\"ApplicantIncome\"])\n",
    "plt.show()"
   ]
  },
  {
   "cell_type": "code",
   "execution_count": 61,
   "metadata": {
    "executionInfo": {
     "elapsed": 103,
     "status": "ok",
     "timestamp": 1630421210556,
     "user": {
      "displayName": "Aishwarya L",
      "photoUrl": "",
      "userId": "17266723946839147574"
     },
     "user_tz": -330
    },
    "id": "Oi2pX0DF3xdQ"
   },
   "outputs": [],
   "source": [
    "#to reduce skewness in 'CoapplicantIncome' column"
   ]
  },
  {
   "cell_type": "code",
   "execution_count": 62,
   "metadata": {
    "colab": {
     "base_uri": "https://localhost:8080/"
    },
    "executionInfo": {
     "elapsed": 103,
     "status": "ok",
     "timestamp": 1630421210557,
     "user": {
      "displayName": "Aishwarya L",
      "photoUrl": "",
      "userId": "17266723946839147574"
     },
     "user_tz": -330
    },
    "id": "U-8l6dEt8Lrc",
    "outputId": "e577d4f8-d38a-462b-a206-88d991e0f6e6"
   },
   "outputs": [
    {
     "data": {
      "text/plain": [
       "0.0"
      ]
     },
     "execution_count": 62,
     "metadata": {},
     "output_type": "execute_result"
    }
   ],
   "source": [
    "#to find minimum values\n",
    "min(l_new[\"CoapplicantIncome\"])"
   ]
  },
  {
   "cell_type": "code",
   "execution_count": 63,
   "metadata": {
    "executionInfo": {
     "elapsed": 94,
     "status": "ok",
     "timestamp": 1630421210559,
     "user": {
      "displayName": "Aishwarya L",
      "photoUrl": "",
      "userId": "17266723946839147574"
     },
     "user_tz": -330
    },
    "id": "WL6AXG5_8LuP"
   },
   "outputs": [],
   "source": [
    "#as minimum value in the column is zero so we will not reduce its skewness"
   ]
  },
  {
   "cell_type": "code",
   "execution_count": 64,
   "metadata": {
    "executionInfo": {
     "elapsed": 93,
     "status": "ok",
     "timestamp": 1630421210560,
     "user": {
      "displayName": "Aishwarya L",
      "photoUrl": "",
      "userId": "17266723946839147574"
     },
     "user_tz": -330
    },
    "id": "CESG1YNG8Lyn"
   },
   "outputs": [],
   "source": [
    "#to reduce skewness in 'LoanAmount' column"
   ]
  },
  {
   "cell_type": "code",
   "execution_count": 65,
   "metadata": {
    "colab": {
     "base_uri": "https://localhost:8080/"
    },
    "executionInfo": {
     "elapsed": 95,
     "status": "ok",
     "timestamp": 1630421210563,
     "user": {
      "displayName": "Aishwarya L",
      "photoUrl": "",
      "userId": "17266723946839147574"
     },
     "user_tz": -330
    },
    "id": "8qjKHWFG8L1d",
    "outputId": "9db4d39e-4d78-443a-9fce-5df53d6f19b1"
   },
   "outputs": [
    {
     "data": {
      "text/plain": [
       "9.0"
      ]
     },
     "execution_count": 65,
     "metadata": {},
     "output_type": "execute_result"
    }
   ],
   "source": [
    "#to find minimum values\n",
    "min(l_new[\"LoanAmount\"])"
   ]
  },
  {
   "cell_type": "code",
   "execution_count": 66,
   "metadata": {
    "colab": {
     "base_uri": "https://localhost:8080/"
    },
    "executionInfo": {
     "elapsed": 89,
     "status": "ok",
     "timestamp": 1630421210565,
     "user": {
      "displayName": "Aishwarya L",
      "photoUrl": "",
      "userId": "17266723946839147574"
     },
     "user_tz": -330
    },
    "id": "GsIZYbLc8L8v",
    "outputId": "9c54655a-525e-4767-eacf-372c78c537ae"
   },
   "outputs": [
    {
     "data": {
      "text/plain": [
       "-0.19487771381643657"
      ]
     },
     "execution_count": 66,
     "metadata": {},
     "output_type": "execute_result"
    }
   ],
   "source": [
    "#to reduce the value\n",
    "skew(np.log(l_new[\"LoanAmount\"]))"
   ]
  },
  {
   "cell_type": "code",
   "execution_count": 67,
   "metadata": {
    "executionInfo": {
     "elapsed": 83,
     "status": "ok",
     "timestamp": 1630421210568,
     "user": {
      "displayName": "Aishwarya L",
      "photoUrl": "",
      "userId": "17266723946839147574"
     },
     "user_tz": -330
    },
    "id": "W840F-C38L_C"
   },
   "outputs": [],
   "source": [
    "l_new[\"LoanAmount\"]=np.log(l_new[\"LoanAmount\"])"
   ]
  },
  {
   "cell_type": "code",
   "execution_count": 68,
   "metadata": {
    "colab": {
     "base_uri": "https://localhost:8080/",
     "height": 295
    },
    "executionInfo": {
     "elapsed": 1461,
     "status": "ok",
     "timestamp": 1630421211947,
     "user": {
      "displayName": "Aishwarya L",
      "photoUrl": "",
      "userId": "17266723946839147574"
     },
     "user_tz": -330
    },
    "id": "61X_ZZZI8MG3",
    "outputId": "b49ec7ce-4375-4ce6-a96d-c6efd46181bb"
   },
   "outputs": [
    {
     "name": "stdout",
     "output_type": "stream",
     "text": [
      "-0.19487771381643657\n"
     ]
    },
    {
     "data": {
      "image/png": "[encoded data removed]",
      "text/plain": [
       "<Figure size 432x288 with 1 Axes>"
      ]
     },
     "metadata": {
      "needs_background": "light"
     },
     "output_type": "display_data"
    }
   ],
   "source": [
    "print(skew(l_new[\"LoanAmount\"]))\n",
    "sns.distplot(l_new[\"LoanAmount\"])\n",
    "plt.show()"
   ]
  },
  {
   "cell_type": "code",
   "execution_count": 69,
   "metadata": {
    "executionInfo": {
     "elapsed": 274,
     "status": "ok",
     "timestamp": 1630421211951,
     "user": {
      "displayName": "Aishwarya L",
      "photoUrl": "",
      "userId": "17266723946839147574"
     },
     "user_tz": -330
    },
    "id": "JdJBKFyd-9rN"
   },
   "outputs": [],
   "source": [
    "#to reduce skewness in 'Loan_Amount_Term' column"
   ]
  },
  {
   "cell_type": "code",
   "execution_count": 70,
   "metadata": {
    "colab": {
     "base_uri": "https://localhost:8080/"
    },
    "executionInfo": {
     "elapsed": 276,
     "status": "ok",
     "timestamp": 1630421211954,
     "user": {
      "displayName": "Aishwarya L",
      "photoUrl": "",
      "userId": "17266723946839147574"
     },
     "user_tz": -330
    },
    "id": "x2mljYHT8MKv",
    "outputId": "37a4d923-d319-4f0d-d93f-bc934df5a649"
   },
   "outputs": [
    {
     "data": {
      "text/plain": [
       "12.0"
      ]
     },
     "execution_count": 70,
     "metadata": {},
     "output_type": "execute_result"
    }
   ],
   "source": [
    "min(l_new[\"Loan_Amount_Term\"])"
   ]
  },
  {
   "cell_type": "code",
   "execution_count": 71,
   "metadata": {
    "executionInfo": {
     "elapsed": 270,
     "status": "ok",
     "timestamp": 1630421211955,
     "user": {
      "displayName": "Aishwarya L",
      "photoUrl": "",
      "userId": "17266723946839147574"
     },
     "user_tz": -330
    },
    "id": "QK6kjeE__Ho1"
   },
   "outputs": [],
   "source": [
    "#as this column has negative skewness so we will increase the number"
   ]
  },
  {
   "cell_type": "code",
   "execution_count": 72,
   "metadata": {
    "colab": {
     "base_uri": "https://localhost:8080/"
    },
    "executionInfo": {
     "elapsed": 270,
     "status": "ok",
     "timestamp": 1630421211957,
     "user": {
      "displayName": "Aishwarya L",
      "photoUrl": "",
      "userId": "17266723946839147574"
     },
     "user_tz": -330
    },
    "id": "gz2PFEhEFRME",
    "outputId": "b64bd51b-3ad8-4616-fd94-2562b60c4942"
   },
   "outputs": [
    {
     "data": {
      "text/plain": [
       "0.3570135776420391"
      ]
     },
     "execution_count": 72,
     "metadata": {},
     "output_type": "execute_result"
    }
   ],
   "source": [
    "skew(np.power(l_new[\"Loan_Amount_Term\"] , 3))"
   ]
  },
  {
   "cell_type": "code",
   "execution_count": 73,
   "metadata": {
    "executionInfo": {
     "elapsed": 255,
     "status": "ok",
     "timestamp": 1630421211958,
     "user": {
      "displayName": "Aishwarya L",
      "photoUrl": "",
      "userId": "17266723946839147574"
     },
     "user_tz": -330
    },
    "id": "WC_oTLtWFRR9"
   },
   "outputs": [],
   "source": [
    "l_new[\"Loan_Amount_Term\"]=np.power(l_new[\"Loan_Amount_Term\"] , 3)"
   ]
  },
  {
   "cell_type": "code",
   "execution_count": 74,
   "metadata": {
    "colab": {
     "base_uri": "https://localhost:8080/",
     "height": 307
    },
    "executionInfo": {
     "elapsed": 254,
     "status": "ok",
     "timestamp": 1630421211959,
     "user": {
      "displayName": "Aishwarya L",
      "photoUrl": "",
      "userId": "17266723946839147574"
     },
     "user_tz": -330
    },
    "id": "n_yryBIlAhvT",
    "outputId": "a791d798-1a1f-4c09-be7c-a7ae6f5b34a4"
   },
   "outputs": [
    {
     "name": "stdout",
     "output_type": "stream",
     "text": [
      "0.3570135776420391\n"
     ]
    },
    {
     "data": {
      "image/png": "[encoded data removed]",
      "text/plain": [
       "<Figure size 432x288 with 1 Axes>"
      ]
     },
     "metadata": {
      "needs_background": "light"
     },
     "output_type": "display_data"
    }
   ],
   "source": [
    "print(skew(l_new[\"Loan_Amount_Term\"]))\n",
    "sns.distplot(l_new[\"Loan_Amount_Term\"])\n",
    "plt.show()"
   ]
  },
  {
   "cell_type": "code",
   "execution_count": 75,
   "metadata": {
    "executionInfo": {
     "elapsed": 239,
     "status": "ok",
     "timestamp": 1630421211960,
     "user": {
      "displayName": "Aishwarya L",
      "photoUrl": "",
      "userId": "17266723946839147574"
     },
     "user_tz": -330
    },
    "id": "VZ70zs8dAhyb"
   },
   "outputs": [],
   "source": [
    "#hence now all data is skewed i.e. outliers are being removed"
   ]
  },
  {
   "cell_type": "markdown",
   "metadata": {
    "id": "asOe2xK7b3Ir"
   },
   "source": [
    "**Feature Engineering**"
   ]
  },
  {
   "cell_type": "code",
   "execution_count": 76,
   "metadata": {
    "executionInfo": {
     "elapsed": 240,
     "status": "ok",
     "timestamp": 1630421211962,
     "user": {
      "displayName": "Aishwarya L",
      "photoUrl": "",
      "userId": "17266723946839147574"
     },
     "user_tz": -330
    },
    "id": "ZMCGItxAAh1h"
   },
   "outputs": [],
   "source": [
    "#generating new column from existing column"
   ]
  },
  {
   "cell_type": "code",
   "execution_count": 77,
   "metadata": {
    "executionInfo": {
     "elapsed": 240,
     "status": "ok",
     "timestamp": 1630421211963,
     "user": {
      "displayName": "Aishwarya L",
      "photoUrl": "",
      "userId": "17266723946839147574"
     },
     "user_tz": -330
    },
    "id": "Nyg9vRHPBinF"
   },
   "outputs": [],
   "source": [
    "l_new['Total_Income']=l_new['ApplicantIncome']+l_new['CoapplicantIncome']  "
   ]
  },
  {
   "cell_type": "code",
   "execution_count": 78,
   "metadata": {
    "colab": {
     "base_uri": "https://localhost:8080/",
     "height": 428
    },
    "executionInfo": {
     "elapsed": 242,
     "status": "ok",
     "timestamp": 1630421211965,
     "user": {
      "displayName": "Aishwarya L",
      "photoUrl": "",
      "userId": "17266723946839147574"
     },
     "user_tz": -330
    },
    "id": "teIZACZdBip-",
    "outputId": "ba9e3142-c9ba-4bb2-b97f-2b53d355ed5e"
   },
   "outputs": [
    {
     "data": {
      "text/html": [
       "<div>\n",
       "<style scoped>\n",
       "    .dataframe tbody tr th:only-of-type {\n",
       "        vertical-align: middle;\n",
       "    }\n",
       "\n",
       "    .dataframe tbody tr th {\n",
       "        vertical-align: top;\n",
       "    }\n",
       "\n",
       "    .dataframe thead th {\n",
       "        text-align: right;\n",
       "    }\n",
       "</style>\n",
       "<table border=\"1\" class=\"dataframe\">\n",
       "  <thead>\n",
       "    <tr style=\"text-align: right;\">\n",
       "      <th></th>\n",
       "      <th>ApplicantIncome</th>\n",
       "      <th>CoapplicantIncome</th>\n",
       "      <th>LoanAmount</th>\n",
       "      <th>Loan_Amount_Term</th>\n",
       "      <th>Credit_History</th>\n",
       "      <th>Gender</th>\n",
       "      <th>Married</th>\n",
       "      <th>Dependents</th>\n",
       "      <th>Education</th>\n",
       "      <th>Self_Employed</th>\n",
       "      <th>Property_Area</th>\n",
       "      <th>Loan_Status</th>\n",
       "      <th>Total_Income</th>\n",
       "    </tr>\n",
       "  </thead>\n",
       "  <tbody>\n",
       "    <tr>\n",
       "      <th>0</th>\n",
       "      <td>8.674026</td>\n",
       "      <td>0.0</td>\n",
       "      <td>4.852030</td>\n",
       "      <td>46656000.0</td>\n",
       "      <td>1.0</td>\n",
       "      <td>1</td>\n",
       "      <td>0</td>\n",
       "      <td>0</td>\n",
       "      <td>0</td>\n",
       "      <td>0</td>\n",
       "      <td>2</td>\n",
       "      <td>1</td>\n",
       "      <td>8.674026</td>\n",
       "    </tr>\n",
       "    <tr>\n",
       "      <th>1</th>\n",
       "      <td>8.430109</td>\n",
       "      <td>1508.0</td>\n",
       "      <td>4.852030</td>\n",
       "      <td>46656000.0</td>\n",
       "      <td>1.0</td>\n",
       "      <td>1</td>\n",
       "      <td>1</td>\n",
       "      <td>1</td>\n",
       "      <td>0</td>\n",
       "      <td>0</td>\n",
       "      <td>0</td>\n",
       "      <td>0</td>\n",
       "      <td>1516.430109</td>\n",
       "    </tr>\n",
       "    <tr>\n",
       "      <th>2</th>\n",
       "      <td>8.006368</td>\n",
       "      <td>0.0</td>\n",
       "      <td>4.189655</td>\n",
       "      <td>46656000.0</td>\n",
       "      <td>1.0</td>\n",
       "      <td>1</td>\n",
       "      <td>1</td>\n",
       "      <td>0</td>\n",
       "      <td>0</td>\n",
       "      <td>1</td>\n",
       "      <td>2</td>\n",
       "      <td>1</td>\n",
       "      <td>8.006368</td>\n",
       "    </tr>\n",
       "    <tr>\n",
       "      <th>3</th>\n",
       "      <td>7.856707</td>\n",
       "      <td>2358.0</td>\n",
       "      <td>4.787492</td>\n",
       "      <td>46656000.0</td>\n",
       "      <td>1.0</td>\n",
       "      <td>1</td>\n",
       "      <td>1</td>\n",
       "      <td>0</td>\n",
       "      <td>1</td>\n",
       "      <td>0</td>\n",
       "      <td>2</td>\n",
       "      <td>1</td>\n",
       "      <td>2365.856707</td>\n",
       "    </tr>\n",
       "    <tr>\n",
       "      <th>4</th>\n",
       "      <td>8.699515</td>\n",
       "      <td>0.0</td>\n",
       "      <td>4.948760</td>\n",
       "      <td>46656000.0</td>\n",
       "      <td>1.0</td>\n",
       "      <td>1</td>\n",
       "      <td>0</td>\n",
       "      <td>0</td>\n",
       "      <td>0</td>\n",
       "      <td>0</td>\n",
       "      <td>2</td>\n",
       "      <td>1</td>\n",
       "      <td>8.699515</td>\n",
       "    </tr>\n",
       "    <tr>\n",
       "      <th>...</th>\n",
       "      <td>...</td>\n",
       "      <td>...</td>\n",
       "      <td>...</td>\n",
       "      <td>...</td>\n",
       "      <td>...</td>\n",
       "      <td>...</td>\n",
       "      <td>...</td>\n",
       "      <td>...</td>\n",
       "      <td>...</td>\n",
       "      <td>...</td>\n",
       "      <td>...</td>\n",
       "      <td>...</td>\n",
       "      <td>...</td>\n",
       "    </tr>\n",
       "    <tr>\n",
       "      <th>609</th>\n",
       "      <td>7.972466</td>\n",
       "      <td>0.0</td>\n",
       "      <td>4.262680</td>\n",
       "      <td>46656000.0</td>\n",
       "      <td>1.0</td>\n",
       "      <td>0</td>\n",
       "      <td>0</td>\n",
       "      <td>0</td>\n",
       "      <td>0</td>\n",
       "      <td>0</td>\n",
       "      <td>0</td>\n",
       "      <td>1</td>\n",
       "      <td>7.972466</td>\n",
       "    </tr>\n",
       "    <tr>\n",
       "      <th>610</th>\n",
       "      <td>8.320205</td>\n",
       "      <td>0.0</td>\n",
       "      <td>3.688879</td>\n",
       "      <td>5832000.0</td>\n",
       "      <td>1.0</td>\n",
       "      <td>1</td>\n",
       "      <td>1</td>\n",
       "      <td>3</td>\n",
       "      <td>0</td>\n",
       "      <td>0</td>\n",
       "      <td>0</td>\n",
       "      <td>1</td>\n",
       "      <td>8.320205</td>\n",
       "    </tr>\n",
       "    <tr>\n",
       "      <th>611</th>\n",
       "      <td>8.996157</td>\n",
       "      <td>240.0</td>\n",
       "      <td>5.533389</td>\n",
       "      <td>46656000.0</td>\n",
       "      <td>1.0</td>\n",
       "      <td>1</td>\n",
       "      <td>1</td>\n",
       "      <td>1</td>\n",
       "      <td>0</td>\n",
       "      <td>0</td>\n",
       "      <td>2</td>\n",
       "      <td>1</td>\n",
       "      <td>248.996157</td>\n",
       "    </tr>\n",
       "    <tr>\n",
       "      <th>612</th>\n",
       "      <td>8.933664</td>\n",
       "      <td>0.0</td>\n",
       "      <td>5.231109</td>\n",
       "      <td>46656000.0</td>\n",
       "      <td>1.0</td>\n",
       "      <td>1</td>\n",
       "      <td>1</td>\n",
       "      <td>2</td>\n",
       "      <td>0</td>\n",
       "      <td>0</td>\n",
       "      <td>2</td>\n",
       "      <td>1</td>\n",
       "      <td>8.933664</td>\n",
       "    </tr>\n",
       "    <tr>\n",
       "      <th>613</th>\n",
       "      <td>8.430109</td>\n",
       "      <td>0.0</td>\n",
       "      <td>4.890349</td>\n",
       "      <td>46656000.0</td>\n",
       "      <td>0.0</td>\n",
       "      <td>0</td>\n",
       "      <td>0</td>\n",
       "      <td>0</td>\n",
       "      <td>0</td>\n",
       "      <td>1</td>\n",
       "      <td>1</td>\n",
       "      <td>0</td>\n",
       "      <td>8.430109</td>\n",
       "    </tr>\n",
       "  </tbody>\n",
       "</table>\n",
       "<p>614 rows × 13 columns</p>\n",
       "</div>"
      ],
      "text/plain": [
       "     ApplicantIncome  CoapplicantIncome  LoanAmount  Loan_Amount_Term  \\\n",
       "0           8.674026                0.0    4.852030        46656000.0   \n",
       "1           8.430109             1508.0    4.852030        46656000.0   \n",
       "2           8.006368                0.0    4.189655        46656000.0   \n",
       "3           7.856707             2358.0    4.787492        46656000.0   \n",
       "4           8.699515                0.0    4.948760        46656000.0   \n",
       "..               ...                ...         ...               ...   \n",
       "609         7.972466                0.0    4.262680        46656000.0   \n",
       "610         8.320205                0.0    3.688879         5832000.0   \n",
       "611         8.996157              240.0    5.533389        46656000.0   \n",
       "612         8.933664                0.0    5.231109        46656000.0   \n",
       "613         8.430109                0.0    4.890349        46656000.0   \n",
       "\n",
       "     Credit_History  Gender  Married  Dependents  Education  Self_Employed  \\\n",
       "0               1.0       1        0           0          0              0   \n",
       "1               1.0       1        1           1          0              0   \n",
       "2               1.0       1        1           0          0              1   \n",
       "3               1.0       1        1           0          1              0   \n",
       "4               1.0       1        0           0          0              0   \n",
       "..              ...     ...      ...         ...        ...            ...   \n",
       "609             1.0       0        0           0          0              0   \n",
       "610             1.0       1        1           3          0              0   \n",
       "611             1.0       1        1           1          0              0   \n",
       "612             1.0       1        1           2          0              0   \n",
       "613             0.0       0        0           0          0              1   \n",
       "\n",
       "     Property_Area  Loan_Status  Total_Income  \n",
       "0                2            1      8.674026  \n",
       "1                0            0   1516.430109  \n",
       "2                2            1      8.006368  \n",
       "3                2            1   2365.856707  \n",
       "4                2            1      8.699515  \n",
       "..             ...          ...           ...  \n",
       "609              0            1      7.972466  \n",
       "610              0            1      8.320205  \n",
       "611              2            1    248.996157  \n",
       "612              2            1      8.933664  \n",
       "613              1            0      8.430109  \n",
       "\n",
       "[614 rows x 13 columns]"
      ]
     },
     "execution_count": 78,
     "metadata": {},
     "output_type": "execute_result"
    }
   ],
   "source": [
    "l_new"
   ]
  },
  {
   "cell_type": "code",
   "execution_count": 79,
   "metadata": {
    "executionInfo": {
     "elapsed": 243,
     "status": "ok",
     "timestamp": 1630421211968,
     "user": {
      "displayName": "Aishwarya L",
      "photoUrl": "",
      "userId": "17266723946839147574"
     },
     "user_tz": -330
    },
    "id": "VnU37LwcBitM"
   },
   "outputs": [],
   "source": [
    "#as we have generated new column so we will delete other two columns i.eApplicantIncome & CoapplicantIncome as they will be highly correlated to new created column"
   ]
  },
  {
   "cell_type": "code",
   "execution_count": 80,
   "metadata": {
    "executionInfo": {
     "elapsed": 243,
     "status": "ok",
     "timestamp": 1630421211969,
     "user": {
      "displayName": "Aishwarya L",
      "photoUrl": "",
      "userId": "17266723946839147574"
     },
     "user_tz": -330
    },
    "id": "DD6rHOYTBivu"
   },
   "outputs": [],
   "source": [
    "x = l_new.drop(['Loan_Status' , 'ApplicantIncome' , 'CoapplicantIncome'] , axis=1)\n",
    "y = l_new['Loan_Status']"
   ]
  },
  {
   "cell_type": "code",
   "execution_count": 81,
   "metadata": {
    "colab": {
     "base_uri": "https://localhost:8080/",
     "height": 408
    },
    "executionInfo": {
     "elapsed": 243,
     "status": "ok",
     "timestamp": 1630421211970,
     "user": {
      "displayName": "Aishwarya L",
      "photoUrl": "",
      "userId": "17266723946839147574"
     },
     "user_tz": -330
    },
    "id": "x--Hlu0dZuDA",
    "outputId": "546530f8-e049-4fe7-9403-f54307434a4d"
   },
   "outputs": [
    {
     "data": {
      "text/html": [
       "<div>\n",
       "<style scoped>\n",
       "    .dataframe tbody tr th:only-of-type {\n",
       "        vertical-align: middle;\n",
       "    }\n",
       "\n",
       "    .dataframe tbody tr th {\n",
       "        vertical-align: top;\n",
       "    }\n",
       "\n",
       "    .dataframe thead th {\n",
       "        text-align: right;\n",
       "    }\n",
       "</style>\n",
       "<table border=\"1\" class=\"dataframe\">\n",
       "  <thead>\n",
       "    <tr style=\"text-align: right;\">\n",
       "      <th></th>\n",
       "      <th>LoanAmount</th>\n",
       "      <th>Loan_Amount_Term</th>\n",
       "      <th>Credit_History</th>\n",
       "      <th>Gender</th>\n",
       "      <th>Married</th>\n",
       "      <th>Dependents</th>\n",
       "      <th>Education</th>\n",
       "      <th>Self_Employed</th>\n",
       "      <th>Property_Area</th>\n",
       "      <th>Total_Income</th>\n",
       "    </tr>\n",
       "  </thead>\n",
       "  <tbody>\n",
       "    <tr>\n",
       "      <th>0</th>\n",
       "      <td>4.852030</td>\n",
       "      <td>46656000.0</td>\n",
       "      <td>1.0</td>\n",
       "      <td>1</td>\n",
       "      <td>0</td>\n",
       "      <td>0</td>\n",
       "      <td>0</td>\n",
       "      <td>0</td>\n",
       "      <td>2</td>\n",
       "      <td>8.674026</td>\n",
       "    </tr>\n",
       "    <tr>\n",
       "      <th>1</th>\n",
       "      <td>4.852030</td>\n",
       "      <td>46656000.0</td>\n",
       "      <td>1.0</td>\n",
       "      <td>1</td>\n",
       "      <td>1</td>\n",
       "      <td>1</td>\n",
       "      <td>0</td>\n",
       "      <td>0</td>\n",
       "      <td>0</td>\n",
       "      <td>1516.430109</td>\n",
       "    </tr>\n",
       "    <tr>\n",
       "      <th>2</th>\n",
       "      <td>4.189655</td>\n",
       "      <td>46656000.0</td>\n",
       "      <td>1.0</td>\n",
       "      <td>1</td>\n",
       "      <td>1</td>\n",
       "      <td>0</td>\n",
       "      <td>0</td>\n",
       "      <td>1</td>\n",
       "      <td>2</td>\n",
       "      <td>8.006368</td>\n",
       "    </tr>\n",
       "    <tr>\n",
       "      <th>3</th>\n",
       "      <td>4.787492</td>\n",
       "      <td>46656000.0</td>\n",
       "      <td>1.0</td>\n",
       "      <td>1</td>\n",
       "      <td>1</td>\n",
       "      <td>0</td>\n",
       "      <td>1</td>\n",
       "      <td>0</td>\n",
       "      <td>2</td>\n",
       "      <td>2365.856707</td>\n",
       "    </tr>\n",
       "    <tr>\n",
       "      <th>4</th>\n",
       "      <td>4.948760</td>\n",
       "      <td>46656000.0</td>\n",
       "      <td>1.0</td>\n",
       "      <td>1</td>\n",
       "      <td>0</td>\n",
       "      <td>0</td>\n",
       "      <td>0</td>\n",
       "      <td>0</td>\n",
       "      <td>2</td>\n",
       "      <td>8.699515</td>\n",
       "    </tr>\n",
       "    <tr>\n",
       "      <th>...</th>\n",
       "      <td>...</td>\n",
       "      <td>...</td>\n",
       "      <td>...</td>\n",
       "      <td>...</td>\n",
       "      <td>...</td>\n",
       "      <td>...</td>\n",
       "      <td>...</td>\n",
       "      <td>...</td>\n",
       "      <td>...</td>\n",
       "      <td>...</td>\n",
       "    </tr>\n",
       "    <tr>\n",
       "      <th>609</th>\n",
       "      <td>4.262680</td>\n",
       "      <td>46656000.0</td>\n",
       "      <td>1.0</td>\n",
       "      <td>0</td>\n",
       "      <td>0</td>\n",
       "      <td>0</td>\n",
       "      <td>0</td>\n",
       "      <td>0</td>\n",
       "      <td>0</td>\n",
       "      <td>7.972466</td>\n",
       "    </tr>\n",
       "    <tr>\n",
       "      <th>610</th>\n",
       "      <td>3.688879</td>\n",
       "      <td>5832000.0</td>\n",
       "      <td>1.0</td>\n",
       "      <td>1</td>\n",
       "      <td>1</td>\n",
       "      <td>3</td>\n",
       "      <td>0</td>\n",
       "      <td>0</td>\n",
       "      <td>0</td>\n",
       "      <td>8.320205</td>\n",
       "    </tr>\n",
       "    <tr>\n",
       "      <th>611</th>\n",
       "      <td>5.533389</td>\n",
       "      <td>46656000.0</td>\n",
       "      <td>1.0</td>\n",
       "      <td>1</td>\n",
       "      <td>1</td>\n",
       "      <td>1</td>\n",
       "      <td>0</td>\n",
       "      <td>0</td>\n",
       "      <td>2</td>\n",
       "      <td>248.996157</td>\n",
       "    </tr>\n",
       "    <tr>\n",
       "      <th>612</th>\n",
       "      <td>5.231109</td>\n",
       "      <td>46656000.0</td>\n",
       "      <td>1.0</td>\n",
       "      <td>1</td>\n",
       "      <td>1</td>\n",
       "      <td>2</td>\n",
       "      <td>0</td>\n",
       "      <td>0</td>\n",
       "      <td>2</td>\n",
       "      <td>8.933664</td>\n",
       "    </tr>\n",
       "    <tr>\n",
       "      <th>613</th>\n",
       "      <td>4.890349</td>\n",
       "      <td>46656000.0</td>\n",
       "      <td>0.0</td>\n",
       "      <td>0</td>\n",
       "      <td>0</td>\n",
       "      <td>0</td>\n",
       "      <td>0</td>\n",
       "      <td>1</td>\n",
       "      <td>1</td>\n",
       "      <td>8.430109</td>\n",
       "    </tr>\n",
       "  </tbody>\n",
       "</table>\n",
       "<p>614 rows × 10 columns</p>\n",
       "</div>"
      ],
      "text/plain": [
       "     LoanAmount  Loan_Amount_Term  Credit_History  Gender  Married  \\\n",
       "0      4.852030        46656000.0             1.0       1        0   \n",
       "1      4.852030        46656000.0             1.0       1        1   \n",
       "2      4.189655        46656000.0             1.0       1        1   \n",
       "3      4.787492        46656000.0             1.0       1        1   \n",
       "4      4.948760        46656000.0             1.0       1        0   \n",
       "..          ...               ...             ...     ...      ...   \n",
       "609    4.262680        46656000.0             1.0       0        0   \n",
       "610    3.688879         5832000.0             1.0       1        1   \n",
       "611    5.533389        46656000.0             1.0       1        1   \n",
       "612    5.231109        46656000.0             1.0       1        1   \n",
       "613    4.890349        46656000.0             0.0       0        0   \n",
       "\n",
       "     Dependents  Education  Self_Employed  Property_Area  Total_Income  \n",
       "0             0          0              0              2      8.674026  \n",
       "1             1          0              0              0   1516.430109  \n",
       "2             0          0              1              2      8.006368  \n",
       "3             0          1              0              2   2365.856707  \n",
       "4             0          0              0              2      8.699515  \n",
       "..          ...        ...            ...            ...           ...  \n",
       "609           0          0              0              0      7.972466  \n",
       "610           3          0              0              0      8.320205  \n",
       "611           1          0              0              2    248.996157  \n",
       "612           2          0              0              2      8.933664  \n",
       "613           0          0              1              1      8.430109  \n",
       "\n",
       "[614 rows x 10 columns]"
      ]
     },
     "execution_count": 81,
     "metadata": {},
     "output_type": "execute_result"
    }
   ],
   "source": [
    "x"
   ]
  },
  {
   "cell_type": "code",
   "execution_count": 82,
   "metadata": {
    "colab": {
     "base_uri": "https://localhost:8080/"
    },
    "executionInfo": {
     "elapsed": 243,
     "status": "ok",
     "timestamp": 1630421211972,
     "user": {
      "displayName": "Aishwarya L",
      "photoUrl": "",
      "userId": "17266723946839147574"
     },
     "user_tz": -330
    },
    "id": "kMDed-k7ZvPV",
    "outputId": "fba1f76b-2071-4cfc-bf61-a8db5c573889"
   },
   "outputs": [
    {
     "data": {
      "text/plain": [
       "0      1\n",
       "1      0\n",
       "2      1\n",
       "3      1\n",
       "4      1\n",
       "      ..\n",
       "609    1\n",
       "610    1\n",
       "611    1\n",
       "612    1\n",
       "613    0\n",
       "Name: Loan_Status, Length: 614, dtype: int32"
      ]
     },
     "execution_count": 82,
     "metadata": {},
     "output_type": "execute_result"
    }
   ],
   "source": [
    "y"
   ]
  },
  {
   "cell_type": "code",
   "execution_count": 83,
   "metadata": {
    "colab": {
     "base_uri": "https://localhost:8080/"
    },
    "executionInfo": {
     "elapsed": 231,
     "status": "ok",
     "timestamp": 1630421211973,
     "user": {
      "displayName": "Aishwarya L",
      "photoUrl": "",
      "userId": "17266723946839147574"
     },
     "user_tz": -330
    },
    "id": "POQG1X3cBizK",
    "outputId": "583e6ec8-40b1-4455-be7e-1b2c9b811690"
   },
   "outputs": [
    {
     "data": {
      "text/plain": [
       "(614, 10)"
      ]
     },
     "execution_count": 83,
     "metadata": {},
     "output_type": "execute_result"
    }
   ],
   "source": [
    "x.shape"
   ]
  },
  {
   "cell_type": "code",
   "execution_count": 84,
   "metadata": {
    "colab": {
     "base_uri": "https://localhost:8080/"
    },
    "executionInfo": {
     "elapsed": 223,
     "status": "ok",
     "timestamp": 1630421211975,
     "user": {
      "displayName": "Aishwarya L",
      "photoUrl": "",
      "userId": "17266723946839147574"
     },
     "user_tz": -330
    },
    "id": "wZG9Yt93Bi2Y",
    "outputId": "4ba928a3-91de-42cc-8c35-14175f602197"
   },
   "outputs": [
    {
     "data": {
      "text/plain": [
       "(614,)"
      ]
     },
     "execution_count": 84,
     "metadata": {},
     "output_type": "execute_result"
    }
   ],
   "source": [
    "y.shape"
   ]
  },
  {
   "cell_type": "markdown",
   "metadata": {
    "id": "L85rr_dYuNBY"
   },
   "source": [
    "**Handling Imbalanced Data**"
   ]
  },
  {
   "cell_type": "code",
   "execution_count": 85,
   "metadata": {
    "executionInfo": {
     "elapsed": 215,
     "status": "ok",
     "timestamp": 1630421211977,
     "user": {
      "displayName": "Aishwarya L",
      "photoUrl": "",
      "userId": "17266723946839147574"
     },
     "user_tz": -330
    },
    "id": "eIqXWo5eIvh3"
   },
   "outputs": [],
   "source": [
    "#to check whether data is balanced or not"
   ]
  },
  {
   "cell_type": "code",
   "execution_count": 86,
   "metadata": {
    "colab": {
     "base_uri": "https://localhost:8080/"
    },
    "executionInfo": {
     "elapsed": 217,
     "status": "ok",
     "timestamp": 1630421211980,
     "user": {
      "displayName": "Aishwarya L",
      "photoUrl": "",
      "userId": "17266723946839147574"
     },
     "user_tz": -330
    },
    "id": "2r_0_As1Ah4K",
    "outputId": "c97468a0-ce68-4d7e-fe8e-59b7d4164d76"
   },
   "outputs": [
    {
     "data": {
      "text/plain": [
       "1    422\n",
       "0    192\n",
       "Name: Loan_Status, dtype: int64"
      ]
     },
     "execution_count": 86,
     "metadata": {},
     "output_type": "execute_result"
    }
   ],
   "source": [
    "y.value_counts()"
   ]
  },
  {
   "cell_type": "code",
   "execution_count": 87,
   "metadata": {
    "executionInfo": {
     "elapsed": 215,
     "status": "ok",
     "timestamp": 1630421211987,
     "user": {
      "displayName": "Aishwarya L",
      "photoUrl": "",
      "userId": "17266723946839147574"
     },
     "user_tz": -330
    },
    "id": "uGsDZ3sAffHL"
   },
   "outputs": [],
   "source": [
    "#data is imbalanced"
   ]
  },
  {
   "cell_type": "code",
   "execution_count": 88,
   "metadata": {
    "executionInfo": {
     "elapsed": 216,
     "status": "ok",
     "timestamp": 1630421211989,
     "user": {
      "displayName": "Aishwarya L",
      "photoUrl": "",
      "userId": "17266723946839147574"
     },
     "user_tz": -330
    },
    "id": "zTlT6vRBLRHe"
   },
   "outputs": [],
   "source": [
    "#Balancing Dataset by SMOTE (Synthetic Minority Oversampling Technique)"
   ]
  },
  {
   "cell_type": "code",
   "execution_count": 89,
   "metadata": {
    "colab": {
     "base_uri": "https://localhost:8080/"
    },
    "executionInfo": {
     "elapsed": 216,
     "status": "ok",
     "timestamp": 1630421211990,
     "user": {
      "displayName": "Aishwarya L",
      "photoUrl": "",
      "userId": "17266723946839147574"
     },
     "user_tz": -330
    },
    "id": "ll-HYnKGffKj",
    "outputId": "2c9dbe41-e33b-4ee9-f893-bd1cfcad4d5e"
   },
   "outputs": [
    {
     "name": "stdout",
     "output_type": "stream",
     "text": [
      "Before y Counter({1: 422, 0: 192})\n",
      "After Counter({1: 422, 0: 422})\n"
     ]
    }
   ],
   "source": [
    "from collections import Counter\n",
    "counter = Counter(y)\n",
    "print('Before y',counter)\n",
    "\n",
    "from imblearn.over_sampling import SMOTE\n",
    "smote = SMOTE(sampling_strategy='minority')\n",
    "x_s , y_s = smote.fit_resample(x,y)\n",
    "counter = Counter(y_s)\n",
    "print('After',counter)\n"
   ]
  },
  {
   "cell_type": "markdown",
   "metadata": {
    "id": "XK-vABqzwOO8"
   },
   "source": [
    "# **Scaling the** **Data**"
   ]
  },
  {
   "cell_type": "code",
   "execution_count": 90,
   "metadata": {
    "executionInfo": {
     "elapsed": 209,
     "status": "ok",
     "timestamp": 1630421211991,
     "user": {
      "displayName": "Aishwarya L",
      "photoUrl": "",
      "userId": "17266723946839147574"
     },
     "user_tz": -330
    },
    "id": "XI5QsavtwRLF"
   },
   "outputs": [],
   "source": [
    "from sklearn.preprocessing import StandardScaler\n",
    "\n",
    "ss = StandardScaler()\n",
    "x_ss = ss.fit_transform(x_s)"
   ]
  },
  {
   "cell_type": "markdown",
   "metadata": {
    "id": "REgK7-w8unN1"
   },
   "source": [
    "# **Splitting the Data**"
   ]
  },
  {
   "cell_type": "code",
   "execution_count": 91,
   "metadata": {
    "executionInfo": {
     "elapsed": 210,
     "status": "ok",
     "timestamp": 1630421211993,
     "user": {
      "displayName": "Aishwarya L",
      "photoUrl": "",
      "userId": "17266723946839147574"
     },
     "user_tz": -330
    },
    "id": "wIdajhjvBsmu"
   },
   "outputs": [],
   "source": [
    "from sklearn.model_selection import train_test_split\n",
    "x_train , x_test , y_train , y_test = train_test_split(x_ss , y_s ,test_size=0.3 , stratify = y_s)"
   ]
  },
  {
   "cell_type": "code",
   "execution_count": 92,
   "metadata": {
    "colab": {
     "base_uri": "https://localhost:8080/"
    },
    "executionInfo": {
     "elapsed": 211,
     "status": "ok",
     "timestamp": 1630421211995,
     "user": {
      "displayName": "Aishwarya L",
      "photoUrl": "",
      "userId": "17266723946839147574"
     },
     "user_tz": -330
    },
    "id": "2EDESTv0swX_",
    "outputId": "fdacc6e6-fbe1-485d-96fc-5c0fa95a3c4f"
   },
   "outputs": [
    {
     "data": {
      "text/plain": [
       "array([[ 7.66514610e-01,  1.40902117e-01,  5.73923082e-01, ...,\n",
       "        -3.34648263e-01,  1.30774960e+00, -1.69953437e-01],\n",
       "       [ 1.31329028e+00,  1.40902117e-01, -1.94086604e+00, ...,\n",
       "        -3.34648263e-01,  4.34418540e-02, -5.42280485e-01],\n",
       "       [-4.81584534e-01,  3.93379730e+00, -1.94086604e+00, ...,\n",
       "        -3.34648263e-01,  1.30774960e+00, -6.47849301e-02],\n",
       "       ...,\n",
       "       [ 8.52927470e-02,  1.40902117e-01,  5.73923082e-01, ...,\n",
       "        -3.34648263e-01,  1.30774960e+00, -2.87698683e-02],\n",
       "       [ 2.90282961e-01, -2.28091271e+00, -1.94086604e+00, ...,\n",
       "        -3.34648263e-01, -1.22086590e+00,  4.33834081e-01],\n",
       "       [-3.05917764e-01, -2.28091271e+00,  5.73923082e-01, ...,\n",
       "        -3.34648263e-01,  1.30774960e+00, -2.38488205e-03]])"
      ]
     },
     "execution_count": 92,
     "metadata": {},
     "output_type": "execute_result"
    }
   ],
   "source": [
    "x_train"
   ]
  },
  {
   "cell_type": "code",
   "execution_count": 93,
   "metadata": {
    "colab": {
     "base_uri": "https://localhost:8080/"
    },
    "executionInfo": {
     "elapsed": 205,
     "status": "ok",
     "timestamp": 1630421211996,
     "user": {
      "displayName": "Aishwarya L",
      "photoUrl": "",
      "userId": "17266723946839147574"
     },
     "user_tz": -330
    },
    "id": "rnVs_YSRfayT",
    "outputId": "d2d53515-9ebc-4829-c3da-2e4a9521c938"
   },
   "outputs": [
    {
     "data": {
      "text/plain": [
       "array([[ 0.55506251,  0.14090212,  0.57392308, ..., -0.33464826,\n",
       "         1.3077496 , -0.03989407],\n",
       "       [ 0.50500019,  0.14090212,  0.57392308, ..., -0.33464826,\n",
       "         0.04344185, -0.54235399],\n",
       "       [-0.09265522,  0.14090212,  0.57392308, ..., -0.33464826,\n",
       "         0.04344185,  0.91264534],\n",
       "       ...,\n",
       "       [-0.14395377,  0.14090212,  0.57392308, ..., -0.33464826,\n",
       "        -1.2208659 ,  1.10492201],\n",
       "       [-0.3776455 ,  0.14090212, -1.66870073, ..., -0.33464826,\n",
       "         1.3077496 , -0.54251905],\n",
       "       [ 0.98551121,  0.14090212, -0.39937951, ..., -0.33464826,\n",
       "         1.3077496 ,  0.59683991]])"
      ]
     },
     "execution_count": 93,
     "metadata": {},
     "output_type": "execute_result"
    }
   ],
   "source": [
    "x_test"
   ]
  },
  {
   "cell_type": "code",
   "execution_count": 94,
   "metadata": {
    "colab": {
     "base_uri": "https://localhost:8080/"
    },
    "executionInfo": {
     "elapsed": 200,
     "status": "ok",
     "timestamp": 1630421211998,
     "user": {
      "displayName": "Aishwarya L",
      "photoUrl": "",
      "userId": "17266723946839147574"
     },
     "user_tz": -330
    },
    "id": "cxt0QAutfbJB",
    "outputId": "dfedae64-2383-4a94-b2f5-8ede1cf9e67d"
   },
   "outputs": [
    {
     "data": {
      "text/plain": [
       "491    1\n",
       "138    0\n",
       "179    0\n",
       "673    0\n",
       "533    0\n",
       "      ..\n",
       "537    1\n",
       "448    0\n",
       "292    1\n",
       "797    0\n",
       "315    1\n",
       "Name: Loan_Status, Length: 590, dtype: int32"
      ]
     },
     "execution_count": 94,
     "metadata": {},
     "output_type": "execute_result"
    }
   ],
   "source": [
    "y_train"
   ]
  },
  {
   "cell_type": "code",
   "execution_count": 95,
   "metadata": {
    "colab": {
     "base_uri": "https://localhost:8080/"
    },
    "executionInfo": {
     "elapsed": 199,
     "status": "ok",
     "timestamp": 1630421212004,
     "user": {
      "displayName": "Aishwarya L",
      "photoUrl": "",
      "userId": "17266723946839147574"
     },
     "user_tz": -330
    },
    "id": "-jl418wTff7H",
    "outputId": "a08dcc42-d5d3-478c-bc63-a4fe11809444"
   },
   "outputs": [
    {
     "data": {
      "text/plain": [
       "8      1\n",
       "191    0\n",
       "244    1\n",
       "570    1\n",
       "222    1\n",
       "      ..\n",
       "80     1\n",
       "524    0\n",
       "240    1\n",
       "650    0\n",
       "786    0\n",
       "Name: Loan_Status, Length: 254, dtype: int32"
      ]
     },
     "execution_count": 95,
     "metadata": {},
     "output_type": "execute_result"
    }
   ],
   "source": [
    "y_test"
   ]
  },
  {
   "cell_type": "markdown",
   "metadata": {
    "id": "ZtyiQtrxyCIw"
   },
   "source": [
    "# **Model** **Training**"
   ]
  },
  {
   "cell_type": "markdown",
   "metadata": {
    "id": "pnv_iflxyubU"
   },
   "source": [
    "**Logistic Regression**"
   ]
  },
  {
   "cell_type": "code",
   "execution_count": 96,
   "metadata": {
    "executionInfo": {
     "elapsed": 192,
     "status": "ok",
     "timestamp": 1630421212007,
     "user": {
      "displayName": "Aishwarya L",
      "photoUrl": "",
      "userId": "17266723946839147574"
     },
     "user_tz": -330
    },
    "id": "xM6ZGkgMytf_"
   },
   "outputs": [],
   "source": [
    "from sklearn.linear_model import LogisticRegression"
   ]
  },
  {
   "cell_type": "code",
   "execution_count": 97,
   "metadata": {
    "executionInfo": {
     "elapsed": 194,
     "status": "ok",
     "timestamp": 1630421212009,
     "user": {
      "displayName": "Aishwarya L",
      "photoUrl": "",
      "userId": "17266723946839147574"
     },
     "user_tz": -330
    },
    "id": "GthcOVJqbMgi"
   },
   "outputs": [],
   "source": [
    "log = LogisticRegression()"
   ]
  },
  {
   "cell_type": "code",
   "execution_count": 98,
   "metadata": {
    "colab": {
     "base_uri": "https://localhost:8080/"
    },
    "executionInfo": {
     "elapsed": 195,
     "status": "ok",
     "timestamp": 1630421212011,
     "user": {
      "displayName": "Aishwarya L",
      "photoUrl": "",
      "userId": "17266723946839147574"
     },
     "user_tz": -330
    },
    "id": "KwyUhE7XbMkj",
    "outputId": "d62ef4f9-5bfe-4442-98d8-1afd7bfd41e0"
   },
   "outputs": [
    {
     "data": {
      "text/plain": [
       "LogisticRegression()"
      ]
     },
     "execution_count": 98,
     "metadata": {},
     "output_type": "execute_result"
    }
   ],
   "source": [
    "log.fit(x_train,y_train)"
   ]
  },
  {
   "cell_type": "code",
   "execution_count": 99,
   "metadata": {
    "colab": {
     "base_uri": "https://localhost:8080/"
    },
    "executionInfo": {
     "elapsed": 187,
     "status": "ok",
     "timestamp": 1630421212012,
     "user": {
      "displayName": "Aishwarya L",
      "photoUrl": "",
      "userId": "17266723946839147574"
     },
     "user_tz": -330
    },
    "id": "ssJXhY-EbMnZ",
    "outputId": "e5764e37-4ae3-4f55-da38-663d0a9e16d2"
   },
   "outputs": [
    {
     "name": "stdout",
     "output_type": "stream",
     "text": [
      "Training Accuracy Score = 0.7559322033898305\n",
      "Testing Accuracy Score = 0.7755905511811023\n"
     ]
    }
   ],
   "source": [
    "print(f\"Training Accuracy Score = {log.score(x_train,y_train)}\")           \n",
    "print(f\"Testing Accuracy Score = {log.score(x_test,y_test)}\") "
   ]
  },
  {
   "cell_type": "code",
   "execution_count": 100,
   "metadata": {
    "colab": {
     "base_uri": "https://localhost:8080/"
    },
    "executionInfo": {
     "elapsed": 181,
     "status": "ok",
     "timestamp": 1630421212013,
     "user": {
      "displayName": "Aishwarya L",
      "photoUrl": "",
      "userId": "17266723946839147574"
     },
     "user_tz": -330
    },
    "id": "DciVRMZChmls",
    "outputId": "bcb84c53-0865-40e8-d63e-89180718e7a3"
   },
   "outputs": [
    {
     "data": {
      "text/plain": [
       "array([-0.25252452])"
      ]
     },
     "execution_count": 100,
     "metadata": {},
     "output_type": "execute_result"
    }
   ],
   "source": [
    "log.intercept_"
   ]
  },
  {
   "cell_type": "code",
   "execution_count": 101,
   "metadata": {
    "colab": {
     "base_uri": "https://localhost:8080/"
    },
    "executionInfo": {
     "elapsed": 175,
     "status": "ok",
     "timestamp": 1630421212013,
     "user": {
      "displayName": "Aishwarya L",
      "photoUrl": "",
      "userId": "17266723946839147574"
     },
     "user_tz": -330
    },
    "id": "QesSOLouhmqZ",
    "outputId": "cd7ebdf5-ef9b-4232-d6b8-f3be76fc5af1"
   },
   "outputs": [
    {
     "data": {
      "text/plain": [
       "array([[-0.13365614, -0.09742293,  1.63766029, -0.06703092,  0.39409096,\n",
       "         0.13445371,  0.00979512,  0.12404547,  0.14841857, -0.20538153]])"
      ]
     },
     "execution_count": 101,
     "metadata": {},
     "output_type": "execute_result"
    }
   ],
   "source": [
    "log.coef_"
   ]
  },
  {
   "cell_type": "code",
   "execution_count": 102,
   "metadata": {
    "executionInfo": {
     "elapsed": 170,
     "status": "ok",
     "timestamp": 1630421212014,
     "user": {
      "displayName": "Aishwarya L",
      "photoUrl": "",
      "userId": "17266723946839147574"
     },
     "user_tz": -330
    },
    "id": "FlSD0IRiFwIn"
   },
   "outputs": [],
   "source": [
    "# as bias (residuals in Training Set) < variance (residuals in Testing Set) , overfittng has occured so we will perform Cross Validation Technique"
   ]
  },
  {
   "cell_type": "code",
   "execution_count": 103,
   "metadata": {
    "colab": {
     "base_uri": "https://localhost:8080/"
    },
    "executionInfo": {
     "elapsed": 170,
     "status": "ok",
     "timestamp": 1630421212015,
     "user": {
      "displayName": "Aishwarya L",
      "photoUrl": "",
      "userId": "17266723946839147574"
     },
     "user_tz": -330
    },
    "id": "POHIhHT9bNzL",
    "outputId": "606d6781-d90c-4239-e81f-b8d50836e8dd"
   },
   "outputs": [
    {
     "name": "stdout",
     "output_type": "stream",
     "text": [
      "[0.69230769 0.69230769 0.68627451 0.68627451 0.68627451 0.68627451\n",
      " 0.68627451 0.68627451 0.68627451 0.68627451 0.68627451 0.68627451]\n"
     ]
    }
   ],
   "source": [
    "from sklearn.model_selection import cross_val_score\n",
    "l_cross = cross_val_score(log , x, y ,cv=12)  \n",
    "print(l_cross) "
   ]
  },
  {
   "cell_type": "code",
   "execution_count": 104,
   "metadata": {
    "colab": {
     "base_uri": "https://localhost:8080/"
    },
    "executionInfo": {
     "elapsed": 163,
     "status": "ok",
     "timestamp": 1630421212015,
     "user": {
      "displayName": "Aishwarya L",
      "photoUrl": "",
      "userId": "17266723946839147574"
     },
     "user_tz": -330
    },
    "id": "u5iqOeYqCTUO",
    "outputId": "a2df0eea-034d-453b-d3b4-431ec41d4e1b"
   },
   "outputs": [
    {
     "data": {
      "text/plain": [
       "0.6872800402212168"
      ]
     },
     "execution_count": 104,
     "metadata": {},
     "output_type": "execute_result"
    }
   ],
   "source": [
    "np.mean(l_cross)"
   ]
  },
  {
   "cell_type": "markdown",
   "metadata": {
    "id": "Jhipo5p37SNF"
   },
   "source": [
    "From cross validation also accuracy is not increased , so we sill try other classification algorithms "
   ]
  },
  {
   "cell_type": "markdown",
   "metadata": {
    "id": "U0L_qx4aC6N7"
   },
   "source": [
    "**Decision Tree**"
   ]
  },
  {
   "cell_type": "code",
   "execution_count": 105,
   "metadata": {
    "executionInfo": {
     "elapsed": 158,
     "status": "ok",
     "timestamp": 1630421212017,
     "user": {
      "displayName": "Aishwarya L",
      "photoUrl": "",
      "userId": "17266723946839147574"
     },
     "user_tz": -330
    },
    "id": "2Sr7gdYhCTXS"
   },
   "outputs": [],
   "source": [
    "from sklearn.tree import DecisionTreeClassifier\n",
    "from sklearn import tree"
   ]
  },
  {
   "cell_type": "code",
   "execution_count": 106,
   "metadata": {
    "colab": {
     "base_uri": "https://localhost:8080/"
    },
    "executionInfo": {
     "elapsed": 159,
     "status": "ok",
     "timestamp": 1630421212018,
     "user": {
      "displayName": "Aishwarya L",
      "photoUrl": "",
      "userId": "17266723946839147574"
     },
     "user_tz": -330
    },
    "id": "srZQi9dbCTce",
    "outputId": "b354beed-e367-4005-c2d0-9de16fdd50c8"
   },
   "outputs": [
    {
     "name": "stdout",
     "output_type": "stream",
     "text": [
      "Training Accuracy Score =1.0\n",
      "Testing Accuracy Score =0.7007874015748031\n"
     ]
    }
   ],
   "source": [
    "dt = DecisionTreeClassifier()  \n",
    "dt.fit(x_train , y_train)\n",
    "print(f\"Training Accuracy Score ={dt.score(x_train , y_train)}\")\n",
    "print(f\"Testing Accuracy Score ={dt.score(x_test , y_test)}\")"
   ]
  },
  {
   "cell_type": "code",
   "execution_count": 107,
   "metadata": {
    "colab": {
     "base_uri": "https://localhost:8080/"
    },
    "executionInfo": {
     "elapsed": 153,
     "status": "ok",
     "timestamp": 1630421212019,
     "user": {
      "displayName": "Aishwarya L",
      "photoUrl": "",
      "userId": "17266723946839147574"
     },
     "user_tz": -330
    },
    "id": "SH0KRHqlCTf_",
    "outputId": "c2b0d2b4-051f-4efd-f28c-db07eca8788b"
   },
   "outputs": [
    {
     "name": "stdout",
     "output_type": "stream",
     "text": [
      "Training Accuracy Score =1.0\n",
      "Testing Accuracy Score =0.6771653543307087\n"
     ]
    }
   ],
   "source": [
    "dt1 = DecisionTreeClassifier(criterion = \"entropy\")   #classifier is entropy\n",
    "dt1.fit(x_train , y_train)\n",
    "print(f\"Training Accuracy Score ={dt1.score(x_train , y_train)}\")\n",
    "print(f\"Testing Accuracy Score ={dt1.score(x_test , y_test)}\")"
   ]
  },
  {
   "cell_type": "code",
   "execution_count": 108,
   "metadata": {
    "executionInfo": {
     "elapsed": 148,
     "status": "ok",
     "timestamp": 1630421212020,
     "user": {
      "displayName": "Aishwarya L",
      "photoUrl": "",
      "userId": "17266723946839147574"
     },
     "user_tz": -330
    },
    "id": "DQBCmyVECTjM"
   },
   "outputs": [],
   "source": [
    "#from above it can be noted that by both classifiers such as Gini Index and entropy our results are almost same , which are not useful and cause overfitting of the model"
   ]
  },
  {
   "cell_type": "markdown",
   "metadata": {
    "id": "qM9ZYFbi7bkB"
   },
   "source": [
    "**Hyper Parameter Tuning**"
   ]
  },
  {
   "cell_type": "code",
   "execution_count": 109,
   "metadata": {
    "colab": {
     "base_uri": "https://localhost:8080/"
    },
    "executionInfo": {
     "elapsed": 147,
     "status": "ok",
     "timestamp": 1630421212020,
     "user": {
      "displayName": "Aishwarya L",
      "photoUrl": "",
      "userId": "17266723946839147574"
     },
     "user_tz": -330
    },
    "id": "C5mcs_0VCTqB",
    "outputId": "350e1c77-3d2c-4256-f93a-b6c9bb0aa5b6"
   },
   "outputs": [
    {
     "name": "stdout",
     "output_type": "stream",
     "text": [
      "Criterion = gini , Max depth = 2 , Training Accuracy Score =0.7745762711864407 , Testing Accuracy Score =0.7598425196850394\n",
      "Criterion = gini , Max depth = 3 , Training Accuracy Score =0.7864406779661017 , Testing Accuracy Score =0.7519685039370079\n",
      "Criterion = gini , Max depth = 4 , Training Accuracy Score =0.7983050847457627 , Testing Accuracy Score =0.7559055118110236\n",
      "Criterion = gini , Max depth = 5 , Training Accuracy Score =0.8254237288135593 , Testing Accuracy Score =0.7440944881889764\n",
      "Criterion = gini , Max depth = 6 , Training Accuracy Score =0.8491525423728814 , Testing Accuracy Score =0.7440944881889764\n",
      "Criterion = gini , Max depth = 7 , Training Accuracy Score =0.8796610169491526 , Testing Accuracy Score =0.7440944881889764\n",
      "Criterion = gini , Max depth = 8 , Training Accuracy Score =0.9067796610169492 , Testing Accuracy Score =0.7362204724409449\n",
      "Criterion = gini , Max depth = 9 , Training Accuracy Score =0.9288135593220339 , Testing Accuracy Score =0.7362204724409449\n",
      "Criterion = gini , Max depth = 10 , Training Accuracy Score =0.9457627118644067 , Testing Accuracy Score =0.7283464566929134\n",
      "Criterion = gini , Max depth = 11 , Training Accuracy Score =0.964406779661017 , Testing Accuracy Score =0.7007874015748031\n",
      "Criterion = gini , Max depth = 12 , Training Accuracy Score =0.976271186440678 , Testing Accuracy Score =0.6929133858267716\n",
      "Criterion = gini , Max depth = 13 , Training Accuracy Score =0.9864406779661017 , Testing Accuracy Score =0.7086614173228346\n",
      "Criterion = gini , Max depth = 14 , Training Accuracy Score =0.9966101694915255 , Testing Accuracy Score =0.7165354330708661\n",
      "Criterion = gini , Max depth = 15 , Training Accuracy Score =0.9983050847457627 , Testing Accuracy Score =0.7165354330708661\n",
      "Criterion = gini , Max depth = 16 , Training Accuracy Score =1.0 , Testing Accuracy Score =0.7204724409448819\n",
      "Criterion = gini , Max depth = 17 , Training Accuracy Score =1.0 , Testing Accuracy Score =0.7165354330708661\n",
      "Criterion = gini , Max depth = 18 , Training Accuracy Score =1.0 , Testing Accuracy Score =0.7204724409448819\n",
      "Criterion = gini , Max depth = 19 , Training Accuracy Score =1.0 , Testing Accuracy Score =0.7244094488188977\n",
      "Criterion = entropy , Max depth = 2 , Training Accuracy Score =0.7745762711864407 , Testing Accuracy Score =0.7598425196850394\n",
      "Criterion = entropy , Max depth = 3 , Training Accuracy Score =0.7864406779661017 , Testing Accuracy Score =0.7519685039370079\n",
      "Criterion = entropy , Max depth = 4 , Training Accuracy Score =0.7932203389830509 , Testing Accuracy Score =0.7559055118110236\n",
      "Criterion = entropy , Max depth = 5 , Training Accuracy Score =0.8084745762711865 , Testing Accuracy Score =0.7480314960629921\n",
      "Criterion = entropy , Max depth = 6 , Training Accuracy Score =0.8322033898305085 , Testing Accuracy Score =0.7362204724409449\n",
      "Criterion = entropy , Max depth = 7 , Training Accuracy Score =0.8610169491525423 , Testing Accuracy Score =0.7440944881889764\n",
      "Criterion = entropy , Max depth = 8 , Training Accuracy Score =0.888135593220339 , Testing Accuracy Score =0.7519685039370079\n",
      "Criterion = entropy , Max depth = 9 , Training Accuracy Score =0.9084745762711864 , Testing Accuracy Score =0.7283464566929134\n",
      "Criterion = entropy , Max depth = 10 , Training Accuracy Score =0.9288135593220339 , Testing Accuracy Score =0.7322834645669292\n",
      "Criterion = entropy , Max depth = 11 , Training Accuracy Score =0.9508474576271186 , Testing Accuracy Score =0.6929133858267716\n",
      "Criterion = entropy , Max depth = 12 , Training Accuracy Score =0.9677966101694915 , Testing Accuracy Score =0.7086614173228346\n",
      "Criterion = entropy , Max depth = 13 , Training Accuracy Score =0.9779661016949153 , Testing Accuracy Score =0.7125984251968503\n",
      "Criterion = entropy , Max depth = 14 , Training Accuracy Score =0.9864406779661017 , Testing Accuracy Score =0.7244094488188977\n",
      "Criterion = entropy , Max depth = 15 , Training Accuracy Score =0.9983050847457627 , Testing Accuracy Score =0.7125984251968503\n",
      "Criterion = entropy , Max depth = 16 , Training Accuracy Score =1.0 , Testing Accuracy Score =0.7007874015748031\n",
      "Criterion = entropy , Max depth = 17 , Training Accuracy Score =1.0 , Testing Accuracy Score =0.6889763779527559\n",
      "Criterion = entropy , Max depth = 18 , Training Accuracy Score =1.0 , Testing Accuracy Score =0.7007874015748031\n",
      "Criterion = entropy , Max depth = 19 , Training Accuracy Score =1.0 , Testing Accuracy Score =0.7086614173228346\n"
     ]
    }
   ],
   "source": [
    "#pruning by max_depth\n",
    "lst = ['gini' , 'entropy']           \n",
    "max_dep = range(2 , 20)\n",
    "\n",
    "for i in lst:\n",
    "  for j in max_dep:\n",
    "    dt = DecisionTreeClassifier(criterion = i , max_depth=j)   \n",
    "    dt.fit(x_train , y_train)\n",
    "    print(f\"Criterion = {i} , Max depth = {j} , Training Accuracy Score ={dt.score(x_train , y_train)} , Testing Accuracy Score ={dt.score(x_test , y_test)}\")"
   ]
  },
  {
   "cell_type": "code",
   "execution_count": 110,
   "metadata": {
    "executionInfo": {
     "elapsed": 141,
     "status": "ok",
     "timestamp": 1630421212021,
     "user": {
      "displayName": "Aishwarya L",
      "photoUrl": "",
      "userId": "17266723946839147574"
     },
     "user_tz": -330
    },
    "id": "9TP8-GzQCTsz"
   },
   "outputs": [],
   "source": [
    "#from above it can be noted that at all depths Training Accuracy is more as compared to Testing Accuracy , so it is not useful."
   ]
  },
  {
   "cell_type": "code",
   "execution_count": 111,
   "metadata": {
    "colab": {
     "base_uri": "https://localhost:8080/"
    },
    "executionInfo": {
     "elapsed": 667,
     "status": "ok",
     "timestamp": 1630421263917,
     "user": {
      "displayName": "Aishwarya L",
      "photoUrl": "",
      "userId": "17266723946839147574"
     },
     "user_tz": -330
    },
    "id": "0zcdOlhrCTwS",
    "outputId": "62df09e2-b398-418c-c7a0-2e7f475f8cec"
   },
   "outputs": [
    {
     "name": "stdout",
     "output_type": "stream",
     "text": [
      "Training Accuracy Score =0.7745762711864407\n",
      "Testing Accuracy Score =0.7559055118110236\n"
     ]
    }
   ],
   "source": [
    "dt2 = DecisionTreeClassifier(max_depth=2 , criterion = \"gini\")  \n",
    "dt2.fit(x_train , y_train)\n",
    "print(f\"Training Accuracy Score ={dt2.score(x_train , y_train)}\")\n",
    "print(f\"Testing Accuracy Score ={dt2.score(x_test , y_test)}\")"
   ]
  },
  {
   "cell_type": "code",
   "execution_count": 112,
   "metadata": {},
   "outputs": [
    {
     "name": "stdout",
     "output_type": "stream",
     "text": [
      "Criterion = gini , Min Samp leaf = 2 , Training Accuracy Score =0.9440677966101695 , Testing Accuracy Score =0.7283464566929134\n",
      "Criterion = gini , Min Samp leaf = 3 , Training Accuracy Score =0.9254237288135593 , Testing Accuracy Score =0.7440944881889764\n",
      "Criterion = gini , Min Samp leaf = 4 , Training Accuracy Score =0.8898305084745762 , Testing Accuracy Score =0.7362204724409449\n",
      "Criterion = gini , Min Samp leaf = 5 , Training Accuracy Score =0.8847457627118644 , Testing Accuracy Score =0.7519685039370079\n",
      "Criterion = gini , Min Samp leaf = 6 , Training Accuracy Score =0.8762711864406779 , Testing Accuracy Score =0.7519685039370079\n",
      "Criterion = gini , Min Samp leaf = 7 , Training Accuracy Score =0.8525423728813559 , Testing Accuracy Score =0.7401574803149606\n",
      "Criterion = gini , Min Samp leaf = 8 , Training Accuracy Score =0.8457627118644068 , Testing Accuracy Score =0.7440944881889764\n",
      "Criterion = gini , Min Samp leaf = 9 , Training Accuracy Score =0.8406779661016949 , Testing Accuracy Score =0.7440944881889764\n",
      "Criterion = gini , Min Samp leaf = 10 , Training Accuracy Score =0.8389830508474576 , Testing Accuracy Score =0.7440944881889764\n",
      "Criterion = gini , Min Samp leaf = 11 , Training Accuracy Score =0.8288135593220339 , Testing Accuracy Score =0.7559055118110236\n",
      "Criterion = gini , Min Samp leaf = 12 , Training Accuracy Score =0.823728813559322 , Testing Accuracy Score =0.7440944881889764\n",
      "Criterion = gini , Min Samp leaf = 13 , Training Accuracy Score =0.8220338983050848 , Testing Accuracy Score =0.7401574803149606\n",
      "Criterion = gini , Min Samp leaf = 14 , Training Accuracy Score =0.8220338983050848 , Testing Accuracy Score =0.7480314960629921\n",
      "Criterion = gini , Min Samp leaf = 15 , Training Accuracy Score =0.8220338983050848 , Testing Accuracy Score =0.7401574803149606\n",
      "Criterion = gini , Min Samp leaf = 16 , Training Accuracy Score =0.8169491525423729 , Testing Accuracy Score =0.7322834645669292\n",
      "Criterion = gini , Min Samp leaf = 17 , Training Accuracy Score =0.8135593220338984 , Testing Accuracy Score =0.7283464566929134\n",
      "Criterion = gini , Min Samp leaf = 18 , Training Accuracy Score =0.8135593220338984 , Testing Accuracy Score =0.7480314960629921\n",
      "Criterion = gini , Min Samp leaf = 19 , Training Accuracy Score =0.8135593220338984 , Testing Accuracy Score =0.7401574803149606\n",
      "Criterion = entropy , Min Samp leaf = 2 , Training Accuracy Score =0.9525423728813559 , Testing Accuracy Score =0.7322834645669292\n",
      "Criterion = entropy , Min Samp leaf = 3 , Training Accuracy Score =0.9288135593220339 , Testing Accuracy Score =0.7677165354330708\n",
      "Criterion = entropy , Min Samp leaf = 4 , Training Accuracy Score =0.9050847457627119 , Testing Accuracy Score =0.7125984251968503\n",
      "Criterion = entropy , Min Samp leaf = 5 , Training Accuracy Score =0.8966101694915254 , Testing Accuracy Score =0.7322834645669292\n",
      "Criterion = entropy , Min Samp leaf = 6 , Training Accuracy Score =0.8779661016949153 , Testing Accuracy Score =0.7322834645669292\n",
      "Criterion = entropy , Min Samp leaf = 7 , Training Accuracy Score =0.8576271186440678 , Testing Accuracy Score =0.7755905511811023\n",
      "Criterion = entropy , Min Samp leaf = 8 , Training Accuracy Score =0.8457627118644068 , Testing Accuracy Score =0.7913385826771654\n",
      "Criterion = entropy , Min Samp leaf = 9 , Training Accuracy Score =0.8338983050847457 , Testing Accuracy Score =0.7952755905511811\n",
      "Criterion = entropy , Min Samp leaf = 10 , Training Accuracy Score =0.8271186440677966 , Testing Accuracy Score =0.7913385826771654\n",
      "Criterion = entropy , Min Samp leaf = 11 , Training Accuracy Score =0.8271186440677966 , Testing Accuracy Score =0.7795275590551181\n",
      "Criterion = entropy , Min Samp leaf = 12 , Training Accuracy Score =0.823728813559322 , Testing Accuracy Score =0.7716535433070866\n",
      "Criterion = entropy , Min Samp leaf = 13 , Training Accuracy Score =0.8203389830508474 , Testing Accuracy Score =0.7716535433070866\n",
      "Criterion = entropy , Min Samp leaf = 14 , Training Accuracy Score =0.8169491525423729 , Testing Accuracy Score =0.7755905511811023\n",
      "Criterion = entropy , Min Samp leaf = 15 , Training Accuracy Score =0.8084745762711865 , Testing Accuracy Score =0.7716535433070866\n",
      "Criterion = entropy , Min Samp leaf = 16 , Training Accuracy Score =0.8050847457627118 , Testing Accuracy Score =0.7795275590551181\n",
      "Criterion = entropy , Min Samp leaf = 17 , Training Accuracy Score =0.8033898305084746 , Testing Accuracy Score =0.7795275590551181\n",
      "Criterion = entropy , Min Samp leaf = 18 , Training Accuracy Score =0.8016949152542373 , Testing Accuracy Score =0.7677165354330708\n",
      "Criterion = entropy , Min Samp leaf = 19 , Training Accuracy Score =0.8016949152542373 , Testing Accuracy Score =0.7637795275590551\n"
     ]
    }
   ],
   "source": [
    "#pruning by min_samples_leaf\n",
    "lst = ['gini' , 'entropy']           \n",
    "max_dep = range(2 , 20)\n",
    "\n",
    "for i in lst:\n",
    "  for j in max_dep:\n",
    "    dt = DecisionTreeClassifier(criterion = i , min_samples_leaf=j)   \n",
    "    dt.fit(x_train , y_train)\n",
    "    print(f\"Criterion = {i} , Min Samp leaf = {j} , Training Accuracy Score ={dt.score(x_train , y_train)} , Testing Accuracy Score ={dt.score(x_test , y_test)}\")"
   ]
  },
  {
   "cell_type": "code",
   "execution_count": 113,
   "metadata": {},
   "outputs": [],
   "source": [
    "#from above it can be noted that at all Min Sample leaf Training Accuracy is more as compared to Testing Accuracy , so it is not useful."
   ]
  },
  {
   "cell_type": "markdown",
   "metadata": {
    "id": "lvo17duqSYBZ"
   },
   "source": [
    "SVM"
   ]
  },
  {
   "cell_type": "code",
   "execution_count": 114,
   "metadata": {
    "executionInfo": {
     "elapsed": 130,
     "status": "ok",
     "timestamp": 1630421212022,
     "user": {
      "displayName": "Aishwarya L",
      "photoUrl": "",
      "userId": "17266723946839147574"
     },
     "user_tz": -330
    },
    "id": "bYqBmOPkg7iW"
   },
   "outputs": [],
   "source": [
    "from sklearn.svm import LinearSVC , SVC  "
   ]
  },
  {
   "cell_type": "code",
   "execution_count": 115,
   "metadata": {
    "colab": {
     "base_uri": "https://localhost:8080/"
    },
    "executionInfo": {
     "elapsed": 130,
     "status": "ok",
     "timestamp": 1630421212023,
     "user": {
      "displayName": "Aishwarya L",
      "photoUrl": "",
      "userId": "17266723946839147574"
     },
     "user_tz": -330
    },
    "id": "_TBxg2pyS50s",
    "outputId": "c6bde6d1-9226-4000-8b2a-0315c7fd8f6d"
   },
   "outputs": [
    {
     "name": "stdout",
     "output_type": "stream",
     "text": [
      "Training Accuracy Score =0.7440677966101695\n",
      "Testing Accuracy Score =0.7637795275590551\n"
     ]
    }
   ],
   "source": [
    "#Linear Kernel\n",
    "lsvc = LinearSVC()\n",
    "lsvc.fit(x_train , y_train)\n",
    "print(f\"Training Accuracy Score ={lsvc.score(x_train , y_train)}\")\n",
    "print(f\"Testing Accuracy Score ={lsvc.score(x_test , y_test)}\")"
   ]
  },
  {
   "cell_type": "code",
   "execution_count": 116,
   "metadata": {
    "colab": {
     "base_uri": "https://localhost:8080/"
    },
    "executionInfo": {
     "elapsed": 124,
     "status": "ok",
     "timestamp": 1630421212024,
     "user": {
      "displayName": "Aishwarya L",
      "photoUrl": "",
      "userId": "17266723946839147574"
     },
     "user_tz": -330
    },
    "id": "-vE9DGBDS57U",
    "outputId": "11ee68fa-51b8-4056-c951-3de46dac50f5"
   },
   "outputs": [
    {
     "name": "stdout",
     "output_type": "stream",
     "text": [
      "Training Accuracy Score =0.8050847457627118\n",
      "Testing Accuracy Score =0.7125984251968503\n"
     ]
    }
   ],
   "source": [
    "#Polynomial Kernel\n",
    "psvc = SVC(kernel=\"poly\")              \n",
    "psvc.fit(x_train , y_train)\n",
    "print(f\"Training Accuracy Score ={psvc.score(x_train , y_train)}\")\n",
    "print(f\"Testing Accuracy Score ={psvc.score(x_test , y_test)}\")"
   ]
  },
  {
   "cell_type": "code",
   "execution_count": 117,
   "metadata": {
    "colab": {
     "base_uri": "https://localhost:8080/"
    },
    "executionInfo": {
     "elapsed": 118,
     "status": "ok",
     "timestamp": 1630421212024,
     "user": {
      "displayName": "Aishwarya L",
      "photoUrl": "",
      "userId": "17266723946839147574"
     },
     "user_tz": -330
    },
    "id": "M91HcPoBS6CW",
    "outputId": "0a448b3b-35d3-44ab-c36d-1f1f0c875c02"
   },
   "outputs": [
    {
     "name": "stdout",
     "output_type": "stream",
     "text": [
      "Training Accuracy Score =0.8016949152542373\n",
      "Testing Accuracy Score =0.7598425196850394\n"
     ]
    }
   ],
   "source": [
    "#radial bias function\n",
    "rsvc = SVC(kernel=\"rbf\")                  \n",
    "rsvc.fit(x_train , y_train)\n",
    "print(f\"Training Accuracy Score ={rsvc.score(x_train , y_train)}\")\n",
    "print(f\"Testing Accuracy Score ={rsvc.score(x_test , y_test)}\")"
   ]
  },
  {
   "cell_type": "markdown",
   "metadata": {
    "id": "K_qMu0ErX-MO"
   },
   "source": [
    "# **Feature Selection**"
   ]
  },
  {
   "cell_type": "code",
   "execution_count": 118,
   "metadata": {
    "executionInfo": {
     "elapsed": 112,
     "status": "ok",
     "timestamp": 1630421212025,
     "user": {
      "displayName": "Aishwarya L",
      "photoUrl": "",
      "userId": "17266723946839147574"
     },
     "user_tz": -330
    },
    "id": "92FCw4XLS6iD"
   },
   "outputs": [],
   "source": [
    "from sklearn.feature_selection import f_regression , chi2 , SelectKBest "
   ]
  },
  {
   "cell_type": "code",
   "execution_count": 119,
   "metadata": {
    "executionInfo": {
     "elapsed": 111,
     "status": "ok",
     "timestamp": 1630421212025,
     "user": {
      "displayName": "Aishwarya L",
      "photoUrl": "",
      "userId": "17266723946839147574"
     },
     "user_tz": -330
    },
    "id": "PdtGtkd8YUim"
   },
   "outputs": [],
   "source": [
    "#ANOVA TEST"
   ]
  },
  {
   "cell_type": "code",
   "execution_count": 120,
   "metadata": {
    "executionInfo": {
     "elapsed": 111,
     "status": "ok",
     "timestamp": 1630421212026,
     "user": {
      "displayName": "Aishwarya L",
      "photoUrl": "",
      "userId": "17266723946839147574"
     },
     "user_tz": -330
    },
    "id": "FlRkzcFgYUl1"
   },
   "outputs": [],
   "source": [
    "annova = SelectKBest(score_func=f_regression , k=10) "
   ]
  },
  {
   "cell_type": "code",
   "execution_count": 121,
   "metadata": {
    "colab": {
     "base_uri": "https://localhost:8080/"
    },
    "executionInfo": {
     "elapsed": 1059,
     "status": "ok",
     "timestamp": 1630421212974,
     "user": {
      "displayName": "Aishwarya L",
      "photoUrl": "",
      "userId": "17266723946839147574"
     },
     "user_tz": -330
    },
    "id": "PkFxkDq7YUpi",
    "outputId": "9b0373bc-8bea-4597-f40f-b33d1b1bc7bf"
   },
   "outputs": [
    {
     "data": {
      "text/plain": [
       "SelectKBest(score_func=<function f_regression at 0x00000276426D04C0>)"
      ]
     },
     "execution_count": 121,
     "metadata": {},
     "output_type": "execute_result"
    }
   ],
   "source": [
    "annova.fit(x_train , y_train)"
   ]
  },
  {
   "cell_type": "code",
   "execution_count": 122,
   "metadata": {
    "colab": {
     "base_uri": "https://localhost:8080/"
    },
    "executionInfo": {
     "elapsed": 115,
     "status": "ok",
     "timestamp": 1630421212979,
     "user": {
      "displayName": "Aishwarya L",
      "photoUrl": "",
      "userId": "17266723946839147574"
     },
     "user_tz": -330
    },
    "id": "iwNwkdMlYUtI",
    "outputId": "5c94cf2b-5fb2-4968-80e2-b4cd8150f8bc"
   },
   "outputs": [
    {
     "data": {
      "text/plain": [
       "array([8.76652806e-01, 6.92937989e+00, 2.18214597e+02, 4.44324880e+00,\n",
       "       1.57060701e+01, 2.87479267e+00, 1.86193794e-01, 5.43030303e+00,\n",
       "       7.00012816e+00, 1.96379003e+00])"
      ]
     },
     "execution_count": 122,
     "metadata": {},
     "output_type": "execute_result"
    }
   ],
   "source": [
    "annova.scores_ "
   ]
  },
  {
   "cell_type": "code",
   "execution_count": 123,
   "metadata": {
    "executionInfo": {
     "elapsed": 118,
     "status": "ok",
     "timestamp": 1630421212989,
     "user": {
      "displayName": "Aishwarya L",
      "photoUrl": "",
      "userId": "17266723946839147574"
     },
     "user_tz": -330
    },
    "id": "oTboiTyUYUwe"
   },
   "outputs": [],
   "source": [
    "dfscores = pd.DataFrame(annova.scores_)\n",
    "dfcols = pd.DataFrame(x.columns)"
   ]
  },
  {
   "cell_type": "code",
   "execution_count": 124,
   "metadata": {
    "colab": {
     "base_uri": "https://localhost:8080/",
     "height": 351
    },
    "executionInfo": {
     "elapsed": 122,
     "status": "ok",
     "timestamp": 1630421212993,
     "user": {
      "displayName": "Aishwarya L",
      "photoUrl": "",
      "userId": "17266723946839147574"
     },
     "user_tz": -330
    },
    "id": "3tlqHsF3YUzb",
    "outputId": "29b0cb80-6979-4326-ffa5-401bc0a544bc"
   },
   "outputs": [
    {
     "data": {
      "text/html": [
       "<div>\n",
       "<style scoped>\n",
       "    .dataframe tbody tr th:only-of-type {\n",
       "        vertical-align: middle;\n",
       "    }\n",
       "\n",
       "    .dataframe tbody tr th {\n",
       "        vertical-align: top;\n",
       "    }\n",
       "\n",
       "    .dataframe thead th {\n",
       "        text-align: right;\n",
       "    }\n",
       "</style>\n",
       "<table border=\"1\" class=\"dataframe\">\n",
       "  <thead>\n",
       "    <tr style=\"text-align: right;\">\n",
       "      <th></th>\n",
       "      <th>Features</th>\n",
       "      <th>Scores</th>\n",
       "    </tr>\n",
       "  </thead>\n",
       "  <tbody>\n",
       "    <tr>\n",
       "      <th>0</th>\n",
       "      <td>LoanAmount</td>\n",
       "      <td>0.876653</td>\n",
       "    </tr>\n",
       "    <tr>\n",
       "      <th>1</th>\n",
       "      <td>Loan_Amount_Term</td>\n",
       "      <td>6.929380</td>\n",
       "    </tr>\n",
       "    <tr>\n",
       "      <th>2</th>\n",
       "      <td>Credit_History</td>\n",
       "      <td>218.214597</td>\n",
       "    </tr>\n",
       "    <tr>\n",
       "      <th>3</th>\n",
       "      <td>Gender</td>\n",
       "      <td>4.443249</td>\n",
       "    </tr>\n",
       "    <tr>\n",
       "      <th>4</th>\n",
       "      <td>Married</td>\n",
       "      <td>15.706070</td>\n",
       "    </tr>\n",
       "    <tr>\n",
       "      <th>5</th>\n",
       "      <td>Dependents</td>\n",
       "      <td>2.874793</td>\n",
       "    </tr>\n",
       "    <tr>\n",
       "      <th>6</th>\n",
       "      <td>Education</td>\n",
       "      <td>0.186194</td>\n",
       "    </tr>\n",
       "    <tr>\n",
       "      <th>7</th>\n",
       "      <td>Self_Employed</td>\n",
       "      <td>5.430303</td>\n",
       "    </tr>\n",
       "    <tr>\n",
       "      <th>8</th>\n",
       "      <td>Property_Area</td>\n",
       "      <td>7.000128</td>\n",
       "    </tr>\n",
       "    <tr>\n",
       "      <th>9</th>\n",
       "      <td>Total_Income</td>\n",
       "      <td>1.963790</td>\n",
       "    </tr>\n",
       "  </tbody>\n",
       "</table>\n",
       "</div>"
      ],
      "text/plain": [
       "           Features      Scores\n",
       "0        LoanAmount    0.876653\n",
       "1  Loan_Amount_Term    6.929380\n",
       "2    Credit_History  218.214597\n",
       "3            Gender    4.443249\n",
       "4           Married   15.706070\n",
       "5        Dependents    2.874793\n",
       "6         Education    0.186194\n",
       "7     Self_Employed    5.430303\n",
       "8     Property_Area    7.000128\n",
       "9      Total_Income    1.963790"
      ]
     },
     "execution_count": 124,
     "metadata": {},
     "output_type": "execute_result"
    }
   ],
   "source": [
    "annova_scores = pd.concat([dfcols , dfscores] , axis=1)       \n",
    "annova_scores.columns=['Features' , 'Scores']                   \n",
    "annova_scores"
   ]
  },
  {
   "cell_type": "code",
   "execution_count": 125,
   "metadata": {
    "colab": {
     "base_uri": "https://localhost:8080/"
    },
    "executionInfo": {
     "elapsed": 125,
     "status": "ok",
     "timestamp": 1630421212998,
     "user": {
      "displayName": "Aishwarya L",
      "photoUrl": "",
      "userId": "17266723946839147574"
     },
     "user_tz": -330
    },
    "id": "Z8QzteTyYU2a",
    "outputId": "6eea0765-2a50-4d6f-979b-22d16119068e"
   },
   "outputs": [
    {
     "name": "stdout",
     "output_type": "stream",
     "text": [
      "           Features      Scores\n",
      "2    Credit_History  218.214597\n",
      "4           Married   15.706070\n",
      "8     Property_Area    7.000128\n",
      "1  Loan_Amount_Term    6.929380\n",
      "7     Self_Employed    5.430303\n",
      "3            Gender    4.443249\n",
      "5        Dependents    2.874793\n",
      "9      Total_Income    1.963790\n",
      "0        LoanAmount    0.876653\n",
      "6         Education    0.186194\n"
     ]
    }
   ],
   "source": [
    "#to print largest scores of the features\n",
    "print(annova_scores.nlargest(10 , 'Scores')) "
   ]
  },
  {
   "cell_type": "code",
   "execution_count": 126,
   "metadata": {
    "executionInfo": {
     "elapsed": 123,
     "status": "ok",
     "timestamp": 1630421213003,
     "user": {
      "displayName": "Aishwarya L",
      "photoUrl": "",
      "userId": "17266723946839147574"
     },
     "user_tz": -330
    },
    "id": "3kXfV5OGYU5h"
   },
   "outputs": [],
   "source": [
    "x_train_annova = annova.transform(x_train)\n",
    "x_test_annova = annova.transform(x_test)"
   ]
  },
  {
   "cell_type": "code",
   "execution_count": 127,
   "metadata": {
    "colab": {
     "base_uri": "https://localhost:8080/"
    },
    "executionInfo": {
     "elapsed": 126,
     "status": "ok",
     "timestamp": 1630421213006,
     "user": {
      "displayName": "Aishwarya L",
      "photoUrl": "",
      "userId": "17266723946839147574"
     },
     "user_tz": -330
    },
    "id": "Z3MCdwQuYU8-",
    "outputId": "78e37ce4-6059-4546-a3bb-292df1a12e4a"
   },
   "outputs": [
    {
     "name": "stdout",
     "output_type": "stream",
     "text": [
      "Training Accuracy Score =0.7745762711864407\n",
      "Testing Accuracy Score =0.7559055118110236\n"
     ]
    }
   ],
   "source": [
    "dt = DecisionTreeClassifier(max_depth=2)  \n",
    "dt.fit(x_train_annova , y_train)\n",
    "print(f\"Training Accuracy Score ={dt.score(x_train_annova , y_train)}\")\n",
    "print(f\"Testing Accuracy Score ={dt.score(x_test_annova , y_test)}\")"
   ]
  },
  {
   "cell_type": "code",
   "execution_count": 128,
   "metadata": {
    "executionInfo": {
     "elapsed": 121,
     "status": "ok",
     "timestamp": 1630421213009,
     "user": {
      "displayName": "Aishwarya L",
      "photoUrl": "",
      "userId": "17266723946839147574"
     },
     "user_tz": -330
    },
    "id": "Q1Vo-b1B-Avn"
   },
   "outputs": [],
   "source": [
    "#accuracy is same "
   ]
  },
  {
   "cell_type": "code",
   "execution_count": 129,
   "metadata": {
    "colab": {
     "base_uri": "https://localhost:8080/"
    },
    "executionInfo": {
     "elapsed": 124,
     "status": "ok",
     "timestamp": 1630421213013,
     "user": {
      "displayName": "Aishwarya L",
      "photoUrl": "",
      "userId": "17266723946839147574"
     },
     "user_tz": -330
    },
    "id": "xdiihJTXYVHu",
    "outputId": "769ca721-d88d-4fd3-b431-e618cdb171aa"
   },
   "outputs": [
    {
     "name": "stdout",
     "output_type": "stream",
     "text": [
      "10 = 0.7559055118110236\n",
      "9 = 0.7598425196850394\n",
      "8 = 0.7559055118110236\n",
      "7 = 0.7834645669291339\n",
      "6 = 0.7834645669291339\n",
      "5 = 0.7834645669291339\n",
      "4 = 0.7834645669291339\n",
      "3 = 0.7834645669291339\n",
      "2 = 0.7834645669291339\n"
     ]
    }
   ],
   "source": [
    "#we will check the scores with each feature\n",
    "for K in range(10 , 1 , -1):\n",
    "  annova = SelectKBest(score_func=f_regression , k=K)\n",
    "  annova.fit(x_train , y_train)                         #fit the data\n",
    "  x_train_annova = annova.transform(x_train)            #transform the data\n",
    "  x_test_annova = annova.transform(x_test)\n",
    "  dt = DecisionTreeClassifier(max_depth=2)  \n",
    "  dt.fit(x_train_annova , y_train)\n",
    "  print(f\"{K} = {dt.score(x_test_annova , y_test)}\")"
   ]
  },
  {
   "cell_type": "code",
   "execution_count": 130,
   "metadata": {
    "executionInfo": {
     "elapsed": 119,
     "status": "ok",
     "timestamp": 1630421213014,
     "user": {
      "displayName": "Aishwarya L",
      "photoUrl": "",
      "userId": "17266723946839147574"
     },
     "user_tz": -330
    },
    "id": "ElV-tezDS6lf"
   },
   "outputs": [],
   "source": [
    "#as all features are important we cannot drop any feature as it will affect the accuracy"
   ]
  },
  {
   "cell_type": "markdown",
   "metadata": {
    "id": "r3l6GfolCN6R"
   },
   "source": [
    "# **Ensembling Techniques**"
   ]
  },
  {
   "cell_type": "code",
   "execution_count": 131,
   "metadata": {
    "executionInfo": {
     "elapsed": 120,
     "status": "ok",
     "timestamp": 1630421213016,
     "user": {
      "displayName": "Aishwarya L",
      "photoUrl": "",
      "userId": "17266723946839147574"
     },
     "user_tz": -330
    },
    "id": "iKCieVuLS66y"
   },
   "outputs": [],
   "source": [
    "#importing all ensembling techniques\n",
    "from sklearn.ensemble import (VotingClassifier , BaggingClassifier , GradientBoostingClassifier , StackingClassifier , AdaBoostClassifier)\n",
    "\n",
    "from xgboost import XGBClassifier"
   ]
  },
  {
   "cell_type": "code",
   "execution_count": 132,
   "metadata": {
    "colab": {
     "base_uri": "https://localhost:8080/"
    },
    "executionInfo": {
     "elapsed": 123,
     "status": "ok",
     "timestamp": 1630421213019,
     "user": {
      "displayName": "Aishwarya L",
      "photoUrl": "",
      "userId": "17266723946839147574"
     },
     "user_tz": -330
    },
    "id": "hZ6eIGjPCZai",
    "outputId": "a5ba97d9-c667-4fbf-946e-5a84d82f9f35"
   },
   "outputs": [
    {
     "data": {
      "text/plain": [
       "0.7322834645669292"
      ]
     },
     "execution_count": 132,
     "metadata": {},
     "output_type": "execute_result"
    }
   ],
   "source": [
    "model_list = [('dtg', DecisionTreeClassifier()) , \n",
    "              ('dte', DecisionTreeClassifier(criterion=\"entropy\")),\n",
    "              ('lr' , LogisticRegression())\n",
    "             ]\n",
    "            \n",
    "hard = VotingClassifier(model_list)\n",
    "hard.fit(x_train , y_train)\n",
    "hard.score(x_test , y_test)"
   ]
  },
  {
   "cell_type": "code",
   "execution_count": 133,
   "metadata": {
    "colab": {
     "base_uri": "https://localhost:8080/"
    },
    "executionInfo": {
     "elapsed": 121,
     "status": "ok",
     "timestamp": 1630421213024,
     "user": {
      "displayName": "Aishwarya L",
      "photoUrl": "",
      "userId": "17266723946839147574"
     },
     "user_tz": -330
    },
    "id": "8etVh7YvCZhO",
    "outputId": "e2f3d93c-3ef2-4ce4-d971-b05ba8e296d9"
   },
   "outputs": [
    {
     "data": {
      "text/plain": [
       "0.7283464566929134"
      ]
     },
     "execution_count": 133,
     "metadata": {},
     "output_type": "execute_result"
    }
   ],
   "source": [
    "soft = VotingClassifier(model_list , voting=\"soft\")\n",
    "soft.fit(x_train , y_train)\n",
    "soft.score(x_test , y_test)"
   ]
  },
  {
   "cell_type": "code",
   "execution_count": 134,
   "metadata": {
    "colab": {
     "base_uri": "https://localhost:8080/"
    },
    "executionInfo": {
     "elapsed": 118,
     "status": "ok",
     "timestamp": 1630421213027,
     "user": {
      "displayName": "Aishwarya L",
      "photoUrl": "",
      "userId": "17266723946839147574"
     },
     "user_tz": -330
    },
    "id": "tWs_8oBvCZpf",
    "outputId": "b035f2ee-eee7-447c-e0d6-77518c16cfac"
   },
   "outputs": [
    {
     "data": {
      "text/plain": [
       "0.6811023622047244"
      ]
     },
     "execution_count": 134,
     "metadata": {},
     "output_type": "execute_result"
    }
   ],
   "source": [
    "#StackingClassifier\n",
    "stack = StackingClassifier(estimators=model_list , final_estimator=DecisionTreeClassifier())   \n",
    "stack.fit(x_train , y_train)\n",
    "stack.score(x_test , y_test)"
   ]
  },
  {
   "cell_type": "code",
   "execution_count": 135,
   "metadata": {
    "colab": {
     "base_uri": "https://localhost:8080/"
    },
    "executionInfo": {
     "elapsed": 112,
     "status": "ok",
     "timestamp": 1630421213028,
     "user": {
      "displayName": "Aishwarya L",
      "photoUrl": "",
      "userId": "17266723946839147574"
     },
     "user_tz": -330
    },
    "id": "vhUO59f7CZtM",
    "outputId": "d4f399a4-996a-4145-d45d-261b75ae8653"
   },
   "outputs": [
    {
     "data": {
      "text/plain": [
       "0.7716535433070866"
      ]
     },
     "execution_count": 135,
     "metadata": {},
     "output_type": "execute_result"
    }
   ],
   "source": [
    "#Random Forest\n",
    "bag = BaggingClassifier(DecisionTreeClassifier() , n_estimators=30 , max_samples=100)\n",
    "bag.fit(x_train , y_train)\n",
    "bag.score(x_test , y_test)"
   ]
  },
  {
   "cell_type": "code",
   "execution_count": 136,
   "metadata": {
    "colab": {
     "base_uri": "https://localhost:8080/"
    },
    "executionInfo": {
     "elapsed": 107,
     "status": "ok",
     "timestamp": 1630421213029,
     "user": {
      "displayName": "Aishwarya L",
      "photoUrl": "",
      "userId": "17266723946839147574"
     },
     "user_tz": -330
    },
    "id": "fi9yI4nKCZxB",
    "outputId": "eb552d8f-f9ec-4531-a902-3f06603d4306"
   },
   "outputs": [
    {
     "data": {
      "text/plain": [
       "0.7007874015748031"
      ]
     },
     "execution_count": 136,
     "metadata": {},
     "output_type": "execute_result"
    }
   ],
   "source": [
    "#AdaBoost Classifier\n",
    "ada = AdaBoostClassifier(DecisionTreeClassifier())\n",
    "ada.fit(x_train , y_train)\n",
    "ada.score(x_test , y_test)"
   ]
  },
  {
   "cell_type": "code",
   "execution_count": 137,
   "metadata": {
    "colab": {
     "base_uri": "https://localhost:8080/"
    },
    "executionInfo": {
     "elapsed": 101,
     "status": "ok",
     "timestamp": 1630421213029,
     "user": {
      "displayName": "Aishwarya L",
      "photoUrl": "",
      "userId": "17266723946839147574"
     },
     "user_tz": -330
    },
    "id": "IrG9lRF5CZ0h",
    "outputId": "6500bc82-4ab3-4a2e-99be-6efa2f6d0f8c"
   },
   "outputs": [
    {
     "data": {
      "text/plain": [
       "0.8031496062992126"
      ]
     },
     "execution_count": 137,
     "metadata": {},
     "output_type": "execute_result"
    }
   ],
   "source": [
    "#Gradient Boosting\n",
    "gtb = GradientBoostingClassifier()\n",
    "gtb.fit(x_train , y_train)\n",
    "gtb.score(x_test , y_test)"
   ]
  },
  {
   "cell_type": "code",
   "execution_count": 138,
   "metadata": {
    "colab": {
     "base_uri": "https://localhost:8080/"
    },
    "executionInfo": {
     "elapsed": 95,
     "status": "ok",
     "timestamp": 1630421213030,
     "user": {
      "displayName": "Aishwarya L",
      "photoUrl": "",
      "userId": "17266723946839147574"
     },
     "user_tz": -330
    },
    "id": "KQ43AzFKCZ4c",
    "outputId": "e411422b-bd6d-4543-9284-9eecbee3efdc"
   },
   "outputs": [
    {
     "name": "stdout",
     "output_type": "stream",
     "text": [
      "[23:20:56] WARNING: ..\\src\\learner.cc:541: \n",
      "Parameters: { base_estimator } might not be used.\n",
      "\n",
      "  This may not be accurate due to some parameters are only used in language bindings but\n",
      "  passed down to XGBoost core.  Or some parameters are not used but slip through this\n",
      "  verification. Please open an issue if you find above cases.\n",
      "\n",
      "\n",
      "[23:20:56] WARNING: ..\\src\\learner.cc:1061: Starting in XGBoost 1.3.0, the default evaluation metric used with the objective 'binary:logistic' was changed from 'error' to 'logloss'. Explicitly set eval_metric if you'd like to restore the old behavior.\n"
     ]
    },
    {
     "data": {
      "text/plain": [
       "0.7874015748031497"
      ]
     },
     "execution_count": 138,
     "metadata": {},
     "output_type": "execute_result"
    }
   ],
   "source": [
    "#XGBoost Classifier\n",
    "xgb = XGBClassifier(base_estimator=DecisionTreeClassifier())    #improved score as compared to adaboost in which logistic was used\n",
    "xgb.fit(x_train , y_train)\n",
    "xgb.score(x_test , y_test)"
   ]
  },
  {
   "cell_type": "markdown",
   "metadata": {
    "id": "xzZrOEv_ATfR"
   },
   "source": [
    "**Conclusion : From above program it can be noted that Ensembling Technique Algorithm Gradient Boosting Model gives best accuracy , so it is best suitable for the Prediction of Loan as per the Eligibility of the Customer.**"
   ]
  },
  {
   "cell_type": "markdown",
   "metadata": {
    "id": "b-jSxEpAsAQ7"
   },
   "source": [
    "# Model Deployment"
   ]
  },
  {
   "cell_type": "code",
   "execution_count": 139,
   "metadata": {
    "colab": {
     "base_uri": "https://localhost:8080/"
    },
    "executionInfo": {
     "elapsed": 470,
     "status": "ok",
     "timestamp": 1630421596437,
     "user": {
      "displayName": "Aishwarya L",
      "photoUrl": "",
      "userId": "17266723946839147574"
     },
     "user_tz": -330
    },
    "id": "-deiW-qisAUQ",
    "outputId": "fc5c8bc7-7aa2-42d2-c792-14891f0bcb14"
   },
   "outputs": [
    {
     "name": "stdout",
     "output_type": "stream",
     "text": [
      "0.8031496062992126\n"
     ]
    }
   ],
   "source": [
    "import pickle\n",
    "file=open(\"model.pkl\", 'wb')\n",
    "pickle.dump(gtb, file)\n",
    "a=gtb.score(x_test,y_test)\n",
    "print(a)"
   ]
  },
  {
   "cell_type": "code",
   "execution_count": null,
   "metadata": {},
   "outputs": [],
   "source": []
  }
 ],
 "metadata": {
  "colab": {
   "authorship_tag": "ABX9TyN6NvgKLsNnrxPaz/QWgJQu",
   "collapsed_sections": [],
   "name": "Project ML.ipynb",
   "provenance": []
  },
  "kernelspec": {
   "display_name": "Python 3",
   "language": "python",
   "name": "python3"
  },
  "language_info": {
   "codemirror_mode": {
    "name": "ipython",
    "version": 3
   },
   "file_extension": ".py",
   "mimetype": "text/x-python",
   "name": "python",
   "nbconvert_exporter": "python",
   "pygments_lexer": "ipython3",
   "version": "3.8.8"
  }
 },
 "nbformat": 4,
 "nbformat_minor": 1
}
